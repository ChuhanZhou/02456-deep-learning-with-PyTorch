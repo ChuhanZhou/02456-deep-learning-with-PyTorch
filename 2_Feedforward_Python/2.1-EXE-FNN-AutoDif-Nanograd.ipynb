{
 "cells": [
  {
   "cell_type": "markdown",
   "metadata": {
    "id": "HAva8TnYFtFu"
   },
   "source": [
    "# Contents and why we need this lab\n",
    "\n",
    "This lab is about implementing neural networks yourself before we start using other frameworks that hide some computation from you. It builds on the first lab, where you derived the equations for neural network forward and backward propagation and gradient descent parameter updates. \n",
    "\n",
    "All the frameworks for deep learning you will meet from now on use automatic differentiation (autodiff), so you do not have to code the backward step yourself. In this version of this lab, you will develop your own autodif implementation. We also have an optional [version](https://github.com/DeepLearningDTU/02456-deep-learning-with-PyTorch/blob/master/2_Feedforward_Python/2.2-FNN-NumPy.ipynb) of this lab where you have to code the backward pass explicitly in NumPy."
   ]
  },
  {
   "cell_type": "markdown",
   "metadata": {
    "id": "sCa7HzwpFtFy"
   },
   "source": [
    "# External sources of information\n",
    "\n",
    "1. Jupyter notebook. You can find more information about Jupyter notebooks [here](https://jupyter.org/). It will come as part of the [Anaconda](https://www.anaconda.com/) Python installation. \n",
    "2. [NumPy](https://numpy.org/). Part of Anaconda distribution.  If you already know how to program, most things about Python and NumPy can be found with Google searches.\n",
    "3. [Nanograd](https://github.com/rasmusbergpalm/nanograd) is a minimalistic version of autodiff developed by [Rasmus Berg Palm](https://rasmusbergpalm.github.io) that we use for our framework.\n"
   ]
  },
  {
   "cell_type": "markdown",
   "metadata": {
    "id": "1SjiIp-TFtF0"
   },
   "source": [
    "# This notebook will follow the next steps:\n",
    "\n",
    "1. Nanograd automatic differentiation framework\n",
    "2. Finite difference method\n",
    "3. Data generation\n",
    "4. Defining and initializing the network\n",
    "5. Forward pass\n",
    "6. Training loop \n",
    "7. Testing your model\n",
    "8. Further extensions"
   ]
  },
  {
   "cell_type": "markdown",
   "metadata": {
    "id": "OyXeAA-HuT7s"
   },
   "source": [
    "# Nanograd automatic differention framework"
   ]
  },
  {
   "cell_type": "markdown",
   "metadata": {
    "id": "k6UWKCLKubgA"
   },
   "source": [
    "The [Nanograd](https://github.com/rasmusbergpalm/nanograd) framework defines a class Var which both holds a value and gradient value that we can use to store the intermediate values when we apply the chain rule of differentiation."
   ]
  },
  {
   "cell_type": "code",
   "execution_count": 1,
   "metadata": {
    "id": "Jd4CoEBNzNWS"
   },
   "outputs": [],
   "source": [
    "# Copy and pasted from https://github.com/rasmusbergpalm/nanograd/blob/3a1bf9e9e724da813bfccf91a6f309abdade9f39/nanograd.py\n",
    "\n",
    "from math import exp, log\n",
    "\n",
    "class Var:\n",
    "    \"\"\"\n",
    "    A variable which holds a float and enables gradient computations.\n",
    "    \"\"\"\n",
    "\n",
    "    def __init__(self, val: float, grad_fn=lambda: []):\n",
    "        assert type(val) == float\n",
    "        self.v = val\n",
    "        self.grad_fn = grad_fn\n",
    "        self.grad = 0.0\n",
    "\n",
    "    def backprop(self, bp):\n",
    "        self.grad += bp\n",
    "        for input, grad in self.grad_fn():\n",
    "            input.backprop(grad * bp)\n",
    "\n",
    "    def backward(self):\n",
    "        self.backprop(1.0)\n",
    "\n",
    "    def __add__(self: 'Var', other: 'Var') -> 'Var':\n",
    "        return Var(self.v + other.v, lambda: [(self, 1.0), (other, 1.0)])\n",
    "\n",
    "    def __mul__(self: 'Var', other: 'Var') -> 'Var':\n",
    "        return Var(self.v * other.v, lambda: [(self, other.v), (other, self.v)])\n",
    "\n",
    "    def __pow__(self, power):\n",
    "        assert type(power) in {float, int}, \"power must be float or int\"\n",
    "        return Var(self.v ** power, lambda: [(self, power * self.v ** (power - 1))])\n",
    "\n",
    "    def __neg__(self: 'Var') -> 'Var':\n",
    "        return Var(-1.0) * self\n",
    "\n",
    "    def __sub__(self: 'Var', other: 'Var') -> 'Var':\n",
    "        return self + (-other)\n",
    "\n",
    "    def __truediv__(self: 'Var', other: 'Var') -> 'Var':\n",
    "        return self * other ** -1\n",
    "\n",
    "    def __repr__(self):\n",
    "        return \"Var(v=%.4f, grad=%.4f)\" % (self.v, self.grad)\n",
    "\n",
    "    def relu(self):\n",
    "        return Var(self.v if self.v > 0.0 else 0.0, lambda: [(self, 1.0 if self.v > 0.0 else 0.0)])"
   ]
  },
  {
   "cell_type": "markdown",
   "metadata": {
    "id": "yDX67D6jzcte"
   },
   "source": [
    "A few examples illustrate how we can use this:"
   ]
  },
  {
   "cell_type": "code",
   "execution_count": 2,
   "metadata": {
    "colab": {
     "base_uri": "https://localhost:8080/"
    },
    "id": "xk6PeLc3zwPT",
    "outputId": "47e431b2-07ba-4cb1-ea21-997769641c67"
   },
   "outputs": [
    {
     "name": "stdout",
     "output_type": "stream",
     "text": [
      "Var(v=3.0000, grad=5.0000)\n",
      "Var(v=5.0000, grad=3.0000)\n",
      "Var(v=15.0000, grad=1.0000)\n"
     ]
    }
   ],
   "source": [
    "a = Var(3.0)\n",
    "b = Var(5.0)\n",
    "f = a * b\n",
    "\n",
    "f.backward()\n",
    "\n",
    "for v in [a, b, f]:\n",
    "    print(v)"
   ]
  },
  {
   "cell_type": "code",
   "execution_count": 3,
   "metadata": {
    "colab": {
     "base_uri": "https://localhost:8080/"
    },
    "id": "JmKhYgsY0g_o",
    "outputId": "06c1b1df-c33c-40d3-922a-624612a591c7"
   },
   "outputs": [
    {
     "name": "stdout",
     "output_type": "stream",
     "text": [
      "Var(v=3.0000, grad=14.0000)\n",
      "Var(v=5.0000, grad=3.0000)\n",
      "Var(v=15.0000, grad=1.0000)\n",
      "Var(v=9.0000, grad=3.0000)\n",
      "Var(v=27.0000, grad=1.0000)\n",
      "Var(v=42.0000, grad=1.0000)\n"
     ]
    }
   ],
   "source": [
    "a = Var(3.0)\n",
    "b = Var(5.0)\n",
    "c = a * b\n",
    "d = Var(9.0)\n",
    "e = a * d\n",
    "f = c + e\n",
    "\n",
    "f.backward()\n",
    "\n",
    "for v in [a, b, c, d, e, f]:\n",
    "    print(v)"
   ]
  },
  {
   "cell_type": "markdown",
   "metadata": {},
   "source": [
    "Answer:\n",
    "\n",
    "a = Var(3.0) means the value of variable $a$ is 3.0\n",
    "\n",
    "b = Var(5.0) means the value of variable $b$ is 5.0\n",
    "\n",
    "d = Var(9.0) means the value of variable $d$ is 9.0\n",
    "\n",
    "c = a * b means $c = a * b$\n",
    "\n",
    "e = a * d means $e = a * d$\n",
    "\n",
    "f = c + e means $f = a * b + a * d$\n",
    "\n",
    "f.backward() means derivative with respect to x and calculate the partial derivatives of f with respect to a, b and d\n",
    "\n",
    "the expression of differentiation is $f = a * b + a * d$\n",
    "\n",
    "$$\n",
    "\\begin{align}\n",
    "\\frac{\\partial f}{\\partial a} &= \\frac{\\partial c}{\\partial a}+\\frac{\\partial e}{\\partial a} \\\\\n",
    "&= \\frac{\\partial c}{\\partial a}+\\frac{\\partial e}{\\partial a} \\\\\n",
    "&= \\frac{\\partial a b}{\\partial a}+\\frac{\\partial a d}{\\partial a} \\\\\n",
    "&= b + d \\\\\n",
    "&= 14.0 \\\\\n",
    "\\end{align}\n",
    "$$\n",
    "$$\n",
    "\\begin{align}\n",
    "\\frac{\\partial f}{\\partial b} &= \\frac{\\partial c}{\\partial b} \\\\\n",
    "&= \\frac{\\partial c}{\\partial b} \\\\\n",
    "&= \\frac{\\partial a b}{\\partial b} \\\\\n",
    "&= a \\\\\n",
    "&= 3.0 \\\\\n",
    "\\end{align}\n",
    "$$\n",
    "$$\n",
    "\\begin{align}\n",
    "\\frac{\\partial f}{\\partial d} &= \\frac{\\partial e}{\\partial d} \\\\\n",
    "&= \\frac{\\partial e}{\\partial d} \\\\\n",
    "&= \\frac{\\partial a d}{\\partial d} \\\\\n",
    "&= a \\\\\n",
    "&= 3.0 \\\\\n",
    "\\end{align}\n",
    "$$"
   ]
  },
  {
   "cell_type": "markdown",
   "metadata": {
    "id": "Fe3B6uEH140p"
   },
   "source": [
    "## Exercise a) What is being calculated?\n",
    "\n",
    "Explain briefly the output of the code? What is the expression we differentiate and with respect to what variables?"
   ]
  },
  {
   "cell_type": "markdown",
   "metadata": {
    "id": "q8_Q0t2I3Ruj"
   },
   "source": [
    "## Exercise b) How does the backward function work?\n",
    "\n",
    "You need to understand how the backward function calculates the gradients. We can use the two examples above to help with that.\n",
    "\n",
    "Go through the following four steps and answer the questions on the way:\n",
    "\n",
    "1. We represent the two expressions as graphs as shown below. Fill in the missing expressions for the different derivatives.\n",
    "\n",
    "2. In the remainder, consider the first expression. Make a schematic of the data structure generated when we define the expression for f (e.g., write a list of which objects are created and the corresponding values of their member variables).\n",
    "\n",
    "3. Then execute the backward function by hand to convince yourself that it indeed calculates the gradients with respect to the variables. \n",
    "\n",
    "4. Write down the sequence of calls to backprop."
   ]
  },
  {
   "cell_type": "code",
   "execution_count": 4,
   "metadata": {
    "id": "idGr71jYXl26"
   },
   "outputs": [],
   "source": [
    "# If you have not installed networkx and matplotlib, you can install them by running\n",
    "# !pip install networkx matplotlib\n",
    "\n",
    "import networkx as nx\n",
    "import matplotlib.pyplot as plt"
   ]
  },
  {
   "cell_type": "code",
   "execution_count": 5,
   "metadata": {},
   "outputs": [
    {
     "data": {
      "image/png": "[encoded data removed]",
      "text/plain": [
       "<Figure size 640x480 with 1 Axes>"
      ]
     },
     "metadata": {},
     "output_type": "display_data"
    }
   ],
   "source": [
    "# Create a directed graph\n",
    "G = nx.DiGraph()\n",
    "\n",
    "# Add edges with labels\n",
    "G.add_edge('a', 'f', label='df/da=b')\n",
    "G.add_edge('b', 'f', label='df/db=a')\n",
    "\n",
    "# Manually define positions for a tree layout\n",
    "pos = {\n",
    "    'a': (0, 1),\n",
    "    'b': (0, -1),\n",
    "    'f': (1, 0),\n",
    "}\n",
    "# Draw the graph nodes and edges\n",
    "nx.draw(G, pos, with_labels=True, node_shape='o', node_size=3000, node_color='lightblue', arrows=True)\n",
    "\n",
    "# Draw edge labels\n",
    "edge_labels = nx.get_edge_attributes(G, 'label')\n",
    "nx.draw_networkx_edge_labels(G, pos, edge_labels=edge_labels)\n",
    "\n",
    "# Show the plot\n",
    "plt.show()"
   ]
  },
  {
   "cell_type": "markdown",
   "metadata": {},
   "source": [
    "ex b.2:\n",
    "\n",
    "f = {v = a.v * b.v, grad_fn = \\[(a,b.v),(b,a.v)\\], grad = 0.0}\n",
    "\n",
    "a = {v = a.v, grad_fn = \\[\\], grad = 0.0}\n",
    "\n",
    "b = {v = b.v, grad_fn = \\[\\], grad = 0.0}\n",
    "\n",
    "ex b.3:\n",
    "\n",
    "$$\n",
    "\\begin{align}\n",
    "\\text{a.grad} &= \\text{a.grad} + 1*\\frac{\\partial f}{\\partial a} \\\\\n",
    "&= \\text{a.grad} + \\frac{\\partial a b}{\\partial a} \\\\\n",
    "&= \\text{a.grad} + b \\\\\n",
    "\\end{align}\n",
    "$$\n",
    "\n",
    "$$\n",
    "\\begin{align}\n",
    "\\text{b.grad} &= \\text{b.grad} + 1*\\frac{\\partial f}{\\partial b} \\\\\n",
    "&= \\text{b.grad} + \\frac{\\partial a b}{\\partial b} \\\\\n",
    "&= \\text{b.grad} + a \\\\\n",
    "\\end{align}\n",
    "$$\n",
    "\n",
    "$$\n",
    "\\begin{align}\n",
    "\\text{f.grad} &= \\text{f.grad} + 1 *\\frac{\\partial f}{\\partial f} \\\\\n",
    "&= \\text{f.grad} + \\frac{\\partial f}{\\partial f} \\\\\n",
    "&= \\text{f.grad} + 1 \\\\\n",
    "\\end{align}\n",
    "$$\n",
    "\n",
    "ex b.4:\n",
    "\n",
    "f.backprop() => \\[a.backprop(), b.backprop()\\]"
   ]
  },
  {
   "cell_type": "code",
   "execution_count": 6,
   "metadata": {
    "colab": {
     "base_uri": "https://localhost:8080/",
     "height": 232
    },
    "id": "0nittR-mZFeX",
    "outputId": "fa3656a3-732c-4abe-8084-98a492b0d6be"
   },
   "outputs": [
    {
     "data": {
      "image/png": "[encoded data removed]",
      "text/plain": [
       "<Figure size 640x480 with 1 Axes>"
      ]
     },
     "metadata": {},
     "output_type": "display_data"
    }
   ],
   "source": [
    "# Create a directed graph\n",
    "G = nx.DiGraph()\n",
    "\n",
    "# Add edges with labels\n",
    "G.add_edge('a', 'c', label='dc/da=b')\n",
    "G.add_edge('b', 'c', label='dc/db=a')\n",
    "G.add_edge('a', 'e', label='de/da=d')\n",
    "G.add_edge('d', 'e', label='de/dd=a')\n",
    "G.add_edge('c', 'f', label='df/dc=1')\n",
    "G.add_edge('e', 'f', label='df/de=1')\n",
    "\n",
    "# Manually define positions for a tree layout\n",
    "pos = {\n",
    "    'a': (0, 0),\n",
    "    'b': (0, 2),\n",
    "    'c': (1, 1),\n",
    "    'd': (0, -2),\n",
    "    'e': (1, -1),\n",
    "    'f': (2, 0)\n",
    "}\n",
    "\n",
    "# Draw the graph nodes and edges\n",
    "nx.draw(G, pos, with_labels=True, node_shape='o', node_size=3000, node_color='lightblue', arrows=True)\n",
    "\n",
    "# Draw edge labels\n",
    "edge_labels = nx.get_edge_attributes(G, 'label')\n",
    "nx.draw_networkx_edge_labels(G, pos, edge_labels=edge_labels)\n",
    "\n",
    "# Show the plot\n",
    "plt.show()"
   ]
  },
  {
   "cell_type": "markdown",
   "metadata": {
    "id": "A5oi21W4gpeM"
   },
   "source": [
    "## Exercise c) What happens if we run backward again?\n",
    "\n",
    "Try to execute the code below. Explain what happens."
   ]
  },
  {
   "cell_type": "code",
   "execution_count": 7,
   "metadata": {
    "colab": {
     "base_uri": "https://localhost:8080/"
    },
    "id": "DCtpJyr-gyX1",
    "outputId": "d014bcfa-c9ae-49c3-d268-91cc6ca94ea5"
   },
   "outputs": [
    {
     "name": "stdout",
     "output_type": "stream",
     "text": [
      "Var(v=3.0000, grad=28.0000)\n",
      "Var(v=5.0000, grad=6.0000)\n",
      "Var(v=15.0000, grad=2.0000)\n",
      "Var(v=9.0000, grad=6.0000)\n",
      "Var(v=27.0000, grad=2.0000)\n",
      "Var(v=42.0000, grad=2.0000)\n"
     ]
    }
   ],
   "source": [
    "f.backward()\n",
    "\n",
    "for v in [a, b, c, d, e, f]:\n",
    "    print(v)"
   ]
  },
  {
   "cell_type": "markdown",
   "metadata": {},
   "source": [
    "Answer:\n",
    "\n",
    "because of:\n",
    "\n",
    "    grad = grad_old + grad_new\n",
    "\n",
    "and grad_init = 0, the result of first f.backward():\n",
    "\n",
    "    grad = grad_new\n",
    "\n",
    "if we use f.backward() again:\n",
    "\n",
    "    grad = grad_new + grad_new\n",
    "    grad = 2 * grad_new"
   ]
  },
  {
   "cell_type": "markdown",
   "metadata": {
    "id": "e8bPVq2VhsP-"
   },
   "source": [
    "## Exercise d) Zero gradient\n",
    "\n",
    "We can zero the gradient by backpropagating a -1.0 as is shown in the example below. (If you have run backward multiple time then you also have to run the cell below an equal amount of times.) Explain what is going on."
   ]
  },
  {
   "cell_type": "code",
   "execution_count": 8,
   "metadata": {
    "colab": {
     "base_uri": "https://localhost:8080/"
    },
    "id": "OnyPDQx9lJe0",
    "outputId": "7a125fdc-60c4-4340-a580-8b82aea5b0db"
   },
   "outputs": [
    {
     "name": "stdout",
     "output_type": "stream",
     "text": [
      "Var(v=2.0000, grad=0.0000)\n",
      "Var(v=5.0000, grad=6.0000)\n",
      "Var(v=15.0000, grad=2.0000)\n",
      "Var(v=9.0000, grad=6.0000)\n",
      "Var(v=27.0000, grad=2.0000)\n",
      "Var(v=42.0000, grad=2.0000)\n",
      "Var(v=2.0000, grad=0.0000)\n",
      "Var(v=5.0000, grad=0.0000)\n",
      "Var(v=15.0000, grad=0.0000)\n",
      "Var(v=9.0000, grad=0.0000)\n",
      "Var(v=27.0000, grad=0.0000)\n",
      "Var(v=42.0000, grad=0.0000)\n"
     ]
    }
   ],
   "source": [
    "a = Var(2.0)\n",
    "\n",
    "for v in [a, b, c, d, e, f]:\n",
    "    print(v)\n",
    "\n",
    "f.backprop(-1.0)\n",
    "f.backprop(-1.0)\n",
    "\n",
    "for v in [a, b, c, d, e, f]:\n",
    "    print(v)"
   ]
  },
  {
   "cell_type": "markdown",
   "metadata": {},
   "source": [
    "Answer:\n",
    "\n",
    "usually when we run f.backward(), it means f.backprop(1.0):\n",
    "\n",
    "    grad = grad_old + 1 * grad_new\n",
    "\n",
    "So the f.backprop(-1.0) means:\n",
    "\n",
    "    grad = grad_old + (-1) * grad_new = grad_old - 1 * grad_new\n",
    "\n",
    "Which means that when we run $n$ times f.backward(), we could use f.backprop(-1.0) for $n$ times to let grad in all variables change to 0:\n",
    "\n",
    "    grad = 0 + n * grad_new - n * grad_new = 0\n"
   ]
  },
  {
   "cell_type": "markdown",
   "metadata": {
    "id": "U4057_ljNvWB"
   },
   "source": [
    "## Exercise e) Test correctness of derivatives with the finite difference method\n",
    "\n",
    "Write a small function that uses [the finite difference method](https://en.wikipedia.org/wiki/Finite_difference_method) to numerically test that backpropation implementation is working. In short we will use\n",
    "$$\n",
    "\\frac{\\partial f(a)}{\\partial a} \\approx \\frac{f(a+da)-f(a)}{da}\n",
    "$$\n",
    "for $da \\ll 1$.\n",
    "\n",
    "As an example, we could approximate the derivative of the function $f(a)=a^2$ in e.g. the value $a=4$ using the finite difference method. This amounts to inserting the relevant values and approximating the gradient $f'(4)$ with the fraction above. \n"
   ]
  },
  {
   "cell_type": "code",
   "execution_count": 9,
   "metadata": {
    "colab": {
     "base_uri": "https://localhost:8080/"
    },
    "id": "9TGil92lSXDN",
    "outputId": "7ef5489b-b525-4132-ab08-0b1109c07f4d"
   },
   "outputs": [
    {
     "name": "stdout",
     "output_type": "stream",
     "text": [
      "a = 4.0\n",
      "gradient = 8.0\n",
      "approximate gradient = 8.000000661922968\n"
     ]
    }
   ],
   "source": [
    "# f function - try to change the code to test other types of functions as well (such as different polynomials etc.)\n",
    "def f_function(a):\n",
    "  a = Var(a)\n",
    "  f = a * a\n",
    "  f.backward()\n",
    "  return a.grad,f.v\n",
    "\n",
    "# Insert your finite difference code here\n",
    "def finite_difference(a,da=1e-10):\n",
    "    \"\"\"\n",
    "    This function compute the finite difference between\n",
    "    \n",
    "    Input:\n",
    "    a:           The variable                                    (float)\n",
    "    da:          The finite difference                           (float)\n",
    "    \n",
    "    Output:\n",
    "    finite_difference: numerical approximation to the derivative (float) \n",
    "    \"\"\"\n",
    "    \n",
    "    fa_da = f_function(a+da)[1]         # <- Insert correct expression\n",
    "    fa = f_function(a)[1]               # <- Insert correct expression\n",
    "\n",
    "    finite_difference = (fa_da - fa) / da\n",
    "    \n",
    "    return finite_difference\n",
    "\n",
    "\n",
    "a = 4.0\n",
    "\n",
    "print(\"a = {}\\ngradient = {}\\napproximate gradient = {}\".format(a,f_function(a)[0],finite_difference(a)))"
   ]
  },
  {
   "cell_type": "markdown",
   "metadata": {
    "id": "6pZar5RKaUkg"
   },
   "source": [
    "# Create an artificial dataset to play with\n",
    "\n",
    "We create a non-linear 1d regression task. The generator supports various noise levels and it creates train, validation and test sets. You can modify it yourself if you want more or less challenging tasks."
   ]
  },
  {
   "cell_type": "code",
   "execution_count": 10,
   "metadata": {
    "id": "Y6yfMAQ8aduj"
   },
   "outputs": [],
   "source": [
    "import numpy as np\n",
    "import matplotlib.pyplot as plt\n",
    "\n",
    "np.random.seed(42)"
   ]
  },
  {
   "cell_type": "code",
   "execution_count": 11,
   "metadata": {
    "id": "4YabfD43ajNh"
   },
   "outputs": [],
   "source": [
    "def data_generator(noise=0.1, n_samples=300, D1=True):\n",
    "    # Create covariates and response variable\n",
    "    if D1:\n",
    "        X = np.linspace(-3, 3, num=n_samples).reshape(-1,1) # 1-D\n",
    "        np.random.shuffle(X)\n",
    "        y = np.random.normal((0.5*np.sin(X[:,0]*3) + X[:,0]), noise) # 1-D with trend\n",
    "    else:\n",
    "        X = np.random.multivariate_normal(np.zeros(3), noise*np.eye(3), size = n_samples) # 3-D\n",
    "        np.random.shuffle(X)    \n",
    "        y = np.sin(X[:,0]) - 5*(X[:,1]**2) + 0.5*X[:,2] # 3-D\n",
    "\n",
    "    # Stack them together vertically to split data set\n",
    "    data_set = np.vstack((X.T,y)).T\n",
    "    \n",
    "    train, validation, test = np.split(data_set, [int(0.35*n_samples), int(0.7*n_samples)], axis=0)\n",
    "    \n",
    "    # Standardization of the data, remember we do the standardization with the training set mean and standard deviation\n",
    "    train_mu = np.mean(train, axis=0)\n",
    "    train_sigma = np.std(train, axis=0)\n",
    "    \n",
    "    train = (train-train_mu)/train_sigma\n",
    "    validation = (validation-train_mu)/train_sigma\n",
    "    test = (test-train_mu)/train_sigma\n",
    "    \n",
    "    x_train, x_validation, x_test = train[:,:-1], validation[:,:-1], test[:,:-1]\n",
    "    y_train, y_validation, y_test = train[:,-1], validation[:,-1], test[:,-1]\n",
    "\n",
    "    return x_train, y_train,  x_validation, y_validation, x_test, y_test"
   ]
  },
  {
   "cell_type": "code",
   "execution_count": 12,
   "metadata": {
    "id": "u1oDngHLapIz"
   },
   "outputs": [],
   "source": [
    "D1 = True\n",
    "x_train, y_train,  x_validation, y_validation, x_test, y_test = data_generator(noise=0.5, D1=D1)"
   ]
  },
  {
   "cell_type": "code",
   "execution_count": 13,
   "metadata": {
    "colab": {
     "base_uri": "https://localhost:8080/",
     "height": 265
    },
    "id": "Ysfa3FsBavlm",
    "outputId": "399e5382-ae7d-48f6-9774-7ea4c73e7d95"
   },
   "outputs": [
    {
     "data": {
      "image/png": "[encoded data removed]",
      "text/plain": [
       "<Figure size 640x480 with 1 Axes>"
      ]
     },
     "metadata": {},
     "output_type": "display_data"
    }
   ],
   "source": [
    "if D1:\n",
    "    plt.scatter(x_train[:,0], y_train);\n",
    "    plt.scatter(x_validation[:,0], y_validation);\n",
    "    plt.scatter(x_test[:,0], y_test);\n",
    "else:\n",
    "    plt.scatter(x_train[:,1], y_train);\n",
    "    plt.scatter(x_validation[:,1], y_validation);\n",
    "    plt.scatter(x_test[:,1], y_test);\n",
    "plt.show()"
   ]
  },
  {
   "cell_type": "code",
   "execution_count": 14,
   "metadata": {
    "id": "zac2HHNlgbpm"
   },
   "outputs": [],
   "source": [
    "# convert from nparray to Var\n",
    "def nparray_to_Var(x):\n",
    "  if x.ndim==1:\n",
    "    y = [[Var(float(x[i]))] for i in range(x.shape[0])] # always work with list of list\n",
    "  else:\n",
    "    y = [[Var(float(x[i,j])) for j in range(x.shape[1])] for i in range(x.shape[0])]\n",
    "  return y\n",
    "   \n",
    "x_train = nparray_to_Var(x_train)\n",
    "y_train = nparray_to_Var(y_train)\n",
    "x_validation = nparray_to_Var(x_validation)\n",
    "y_validation = nparray_to_Var(y_validation)\n",
    "x_test = nparray_to_Var(x_test)\n",
    "y_test = nparray_to_Var(y_test)\n"
   ]
  },
  {
   "cell_type": "markdown",
   "metadata": {
    "id": "VbjrqcpVFtGe"
   },
   "source": [
    "# Defining and initializing the network\n",
    "\n",
    "The steps to create a feed forward neural network are the following:\n",
    "\n",
    "1. **Number of hidden layer and hidden units**. We have to define the number of hidden units in each layer. The number of features in X and the output dimensionality (the size of Y) are given but the numbers in between are set by the researcher. Remember that for each unit in each layer beside in the input has a bias term.\n",
    "2. **Activation functions** for each hidden layer. Each hidden layer in your list must have an activation function (it can also be the linear activation which is equivalent to identity function). The power of neural networks comes from non-linear activation functions that learn representations (features) from the data allowing us to learn from it. \n",
    "3. **Parameter initialization**. We will initialize the weights to have random values. This is done in practice by drawing pseudo random numbers from a Gaussian or uniform distribution. It turns out that for deeper models we have to be careful about how we scale the random numbers. This will be the topic of the exercise below. For now we will just use unit variance Gaussians.  \n",
    "\n",
    "In order to make life easier for ourselves we define a DenseLayer class that takes care of initialization and the forward pass. We can also extend it later with print and advanced initialization capabilities. For the latter we have introduced a Initializer class.\n",
    "\n",
    "Note that we use Sequence in the code below. A Sequence is an ordered list. This means the order we insert and access items are the same."
   ]
  },
  {
   "cell_type": "code",
   "execution_count": 15,
   "metadata": {
    "id": "ij_ieRsAt7Xt"
   },
   "outputs": [],
   "source": [
    "class Initializer:\n",
    "\n",
    "  def init_weights(self, n_in, n_out):\n",
    "    raise NotImplementedError\n",
    "\n",
    "  def init_bias(self, n_out):\n",
    "    raise NotImplementedError"
   ]
  },
  {
   "cell_type": "code",
   "execution_count": 16,
   "metadata": {
    "id": "eb18N5phuIha"
   },
   "outputs": [],
   "source": [
    "import random\n",
    "\n",
    "class NormalInitializer(Initializer):\n",
    "\n",
    "  def __init__(self, mean=0, std=0.1):\n",
    "    self.mean = mean\n",
    "    self.std = std\n",
    "\n",
    "  def init_weights(self, n_in, n_out):\n",
    "    return [[Var(random.gauss(self.mean, self.std)) for _ in range(n_out)] for _ in range(n_in)]\n",
    "\n",
    "  def init_bias(self, n_out):\n",
    "    return [Var(0.0) for _ in range(n_out)]\n",
    "\n",
    "class ConstantInitializer(Initializer):\n",
    "\n",
    "  def __init__(self, weight=1.0, bias=0.0):\n",
    "    self.weight = weight\n",
    "    self.bias = bias\n",
    "\n",
    "  def init_weights(self, n_in, n_out):\n",
    "    return [[Var(self.weight) for _ in range(n_out)] for _ in range(n_in)]\n",
    "\n",
    "  def init_bias(self, n_out):\n",
    "    return [Var(self.bias) for _ in range(n_out)]"
   ]
  },
  {
   "cell_type": "code",
   "execution_count": 17,
   "metadata": {
    "id": "jOLYGnZKuM6W"
   },
   "outputs": [],
   "source": [
    "from typing import Sequence\n",
    "\n",
    "class DenseLayer:\n",
    "    def __init__(self, n_in: int, n_out: int, act_fn, initializer = NormalInitializer()):\n",
    "        self.weights = initializer.init_weights(n_in, n_out)\n",
    "        self.bias = initializer.init_bias(n_out)\n",
    "        self.act_fn = act_fn\n",
    "    \n",
    "    def __repr__(self):    \n",
    "        return 'Weights: ' + repr(self.weights) + ' Biases: ' + repr(self.bias)\n",
    "\n",
    "    def parameters(self) -> Sequence[Var]:\n",
    "      params = []\n",
    "      for r in self.weights:\n",
    "        params += r\n",
    "\n",
    "      return params + self.bias\n",
    "\n",
    "    def forward(self, single_input: Sequence[Var]) -> Sequence[Var]:\n",
    "        # self.weights is a matrix with dimension n_in x n_out. We check that the dimensionality of the input \n",
    "        # to the current layer matches the number of nodes in the current layer\n",
    "        assert len(self.weights) == len(single_input), \"weights and single_input must match in first dimension\"\n",
    "        weights = self.weights\n",
    "        out = []\n",
    "        # For some given data point single_input, we now want to calculate the resulting value in each node in the current layer\n",
    "        # We therefore loop over the (number of) nodes in the current layer:\n",
    "        for j in range(len(weights[0])): \n",
    "            # Initialize the node value depending on its corresponding parameters.\n",
    "            node = Var(0.0) # <- Insert code\n",
    "            # We now finish the linear transformation corresponding to the parameters of the currently considered node.\n",
    "            for i in range(len(single_input)):\n",
    "                node += Var(0.0)  # <- Insert code\n",
    "            node = self.act_fn(node)\n",
    "            out.append(node)\n",
    "\n",
    "        return out"
   ]
  },
  {
   "cell_type": "markdown",
   "metadata": {
    "id": "jpIZPBpNI0pO"
   },
   "source": [
    "## Exercise f) Add more activation functions\n",
    "\n",
    "To have a full definition of the neural network, we must define an activation function for every layer. Several activation functions have been proposed and have different characteristics. In the Var class we have already defined the rectified linear init (relu). \n",
    " \n",
    "Implement the following activation functions in the Var class:\n",
    "\n",
    "* Identity: $$\\mathrm{identity}(x) = x$$\n",
    "* Hyperbolic tangent: $$\\tanh(x)$$\n",
    "* Sigmoid (or logistic function): $$\\mathrm{sigmoid}(x) = \\frac{1}{1.0 + \\exp(-x ) }$$  Hint: $\\mathrm{sigmoid}'(x)= \\mathrm{sigmoid}(x)(1-\\mathrm{sigmoid}(x))$.  \n",
    "\n",
    "Hint: You can seek inspiration in the relu method in the Var class."
   ]
  },
  {
   "cell_type": "code",
   "execution_count": 18,
   "metadata": {},
   "outputs": [],
   "source": [
    "import math\n",
    "\n",
    "def identity(self):\n",
    "    return Var(self.v, lambda: [(self, self.v)])\n",
    "\n",
    "def hyperbolic_tangent(self):\n",
    "    v = math.tanh(self.v)\n",
    "    grad = 1-v*v\n",
    "    return Var(v, lambda: [(self, grad)])\n",
    "\n",
    "def sigmoid(self):\n",
    "    v = 1 / (1 + math.exp(-self.v))\n",
    "    grad = v * (1.0 - v)\n",
    "    return Var(v, lambda: [(self, grad)])\n",
    "\n",
    "Var.identity = identity\n",
    "Var.tanh= hyperbolic_tangent\n",
    "Var.sigmoid = sigmoid"
   ]
  },
  {
   "cell_type": "markdown",
   "metadata": {
    "id": "p_8n_SKnIW2F"
   },
   "source": [
    "## Exercise g) Complete the forward pass\n",
    "\n",
    "In the code below we initialize a 1-5-1 network and pass the training set through it. *The forward method in DenseLayer is **not** complete*. It just outputs zeros right now. The method forward should perform an [affine transformation](https://en.wikipedia.org/wiki/Affine_transformation) on the input followed by an application of the activation function."
   ]
  },
  {
   "cell_type": "code",
   "execution_count": 19,
   "metadata": {},
   "outputs": [],
   "source": [
    "def forward_new(self, single_input: Sequence[Var]) -> Sequence[Var]:\n",
    "    # self.weights is a matrix with dimension n_in x n_out. We check that the dimensionality of the input \n",
    "    # to the current layer matches the number of nodes in the current layer\n",
    "    assert len(self.weights) == len(single_input), \"weights and single_input must match in first dimension\"\n",
    "    weights = self.weights\n",
    "    out = []\n",
    "    # For some given data point single_input, we now want to calculate the resulting value in each node in the current layer\n",
    "    # We therefore loop over the (number of) nodes in the current layer:\n",
    "    for j in range(len(weights[0])): \n",
    "        # Initialize the node value depending on its corresponding parameters.\n",
    "        node = self.bias[j]# <- Insert code\n",
    "        # We now finish the linear transformation corresponding to the parameters of the currently considered node.\n",
    "        for i in range(len(single_input)):\n",
    "            node += single_input[i] * weights[i][j]  # <- Insert code\n",
    "        node = self.act_fn(node)\n",
    "        out.append(node)\n",
    "\n",
    "    return out\n",
    "\n",
    "DenseLayer.forward = forward_new"
   ]
  },
  {
   "cell_type": "code",
   "execution_count": 20,
   "metadata": {
    "colab": {
     "base_uri": "https://localhost:8080/",
     "height": 337
    },
    "id": "xDEjtePxE7Mv",
    "outputId": "753406cd-d8a1-4282-ce03-25ad959b0e11"
   },
   "outputs": [
    {
     "name": "stdout",
     "output_type": "stream",
     "text": [
      "[[Var(v=0.0120, grad=0.0000)], [Var(v=0.0241, grad=0.0000)], [Var(v=0.0022, grad=0.0000)], [Var(v=0.0070, grad=0.0000)], [Var(v=0.0177, grad=0.0000)], [Var(v=0.0164, grad=0.0000)], [Var(v=0.0106, grad=0.0000)], [Var(v=0.0017, grad=0.0000)], [Var(v=0.0073, grad=0.0000)], [Var(v=0.0066, grad=0.0000)], [Var(v=0.0185, grad=0.0000)], [Var(v=0.0045, grad=0.0000)], [Var(v=0.0148, grad=0.0000)], [Var(v=0.0051, grad=0.0000)], [Var(v=0.0079, grad=0.0000)], [Var(v=0.0154, grad=0.0000)], [Var(v=0.0285, grad=0.0000)], [Var(v=0.0135, grad=0.0000)], [Var(v=0.0014, grad=0.0000)], [Var(v=0.0047, grad=0.0000)], [Var(v=0.0034, grad=0.0000)], [Var(v=0.0015, grad=0.0000)], [Var(v=0.0208, grad=0.0000)], [Var(v=0.0210, grad=0.0000)], [Var(v=0.0020, grad=0.0000)], [Var(v=0.0053, grad=0.0000)], [Var(v=0.0269, grad=0.0000)], [Var(v=0.0296, grad=0.0000)], [Var(v=0.0031, grad=0.0000)], [Var(v=0.0187, grad=0.0000)], [Var(v=0.0066, grad=0.0000)], [Var(v=0.0045, grad=0.0000)], [Var(v=0.0058, grad=0.0000)], [Var(v=0.0062, grad=0.0000)], [Var(v=0.0143, grad=0.0000)], [Var(v=0.0012, grad=0.0000)], [Var(v=0.0072, grad=0.0000)], [Var(v=0.0027, grad=0.0000)], [Var(v=0.0051, grad=0.0000)], [Var(v=0.0036, grad=0.0000)], [Var(v=0.0026, grad=0.0000)], [Var(v=0.0035, grad=0.0000)], [Var(v=0.0279, grad=0.0000)], [Var(v=0.0043, grad=0.0000)], [Var(v=0.0034, grad=0.0000)], [Var(v=0.0042, grad=0.0000)], [Var(v=0.0179, grad=0.0000)], [Var(v=0.0170, grad=0.0000)], [Var(v=0.0016, grad=0.0000)], [Var(v=0.0173, grad=0.0000)], [Var(v=0.0076, grad=0.0000)], [Var(v=0.0006, grad=0.0000)], [Var(v=0.0189, grad=0.0000)], [Var(v=0.0035, grad=0.0000)], [Var(v=0.0300, grad=0.0000)], [Var(v=0.0264, grad=0.0000)], [Var(v=0.0023, grad=0.0000)], [Var(v=0.0026, grad=0.0000)], [Var(v=0.0099, grad=0.0000)], [Var(v=0.0062, grad=0.0000)], [Var(v=0.0175, grad=0.0000)], [Var(v=0.0044, grad=0.0000)], [Var(v=0.0072, grad=0.0000)], [Var(v=0.0085, grad=0.0000)], [Var(v=0.0062, grad=0.0000)], [Var(v=0.0059, grad=0.0000)], [Var(v=0.0064, grad=0.0000)], [Var(v=0.0221, grad=0.0000)], [Var(v=0.0045, grad=0.0000)], [Var(v=0.0087, grad=0.0000)], [Var(v=0.0017, grad=0.0000)], [Var(v=0.0008, grad=0.0000)], [Var(v=0.0171, grad=0.0000)], [Var(v=0.0100, grad=0.0000)], [Var(v=0.0006, grad=0.0000)], [Var(v=0.0271, grad=0.0000)], [Var(v=0.0031, grad=0.0000)], [Var(v=0.0030, grad=0.0000)], [Var(v=0.0040, grad=0.0000)], [Var(v=0.0283, grad=0.0000)], [Var(v=0.0043, grad=0.0000)], [Var(v=0.0026, grad=0.0000)], [Var(v=0.0065, grad=0.0000)], [Var(v=0.0009, grad=0.0000)], [Var(v=0.0033, grad=0.0000)], [Var(v=0.0014, grad=0.0000)], [Var(v=0.0012, grad=0.0000)], [Var(v=0.0037, grad=0.0000)], [Var(v=0.0067, grad=0.0000)], [Var(v=0.0070, grad=0.0000)], [Var(v=0.0102, grad=0.0000)], [Var(v=0.0021, grad=0.0000)], [Var(v=0.0039, grad=0.0000)], [Var(v=0.0160, grad=0.0000)], [Var(v=0.0055, grad=0.0000)], [Var(v=0.0067, grad=0.0000)], [Var(v=0.0074, grad=0.0000)], [Var(v=0.0012, grad=0.0000)], [Var(v=0.0256, grad=0.0000)], [Var(v=0.0039, grad=0.0000)], [Var(v=0.0168, grad=0.0000)], [Var(v=0.0038, grad=0.0000)], [Var(v=0.0059, grad=0.0000)], [Var(v=0.0081, grad=0.0000)], [Var(v=0.0239, grad=0.0000)]]\n"
     ]
    }
   ],
   "source": [
    "NN = [\n",
    "    DenseLayer(1, 5, lambda x: x.relu()),\n",
    "    DenseLayer(5, 1, lambda x: x.identity())\n",
    "]\n",
    "\n",
    "def forward(input, network):\n",
    "\n",
    "  def forward_single(x, network):\n",
    "    for layer in network:\n",
    "        x = layer.forward(x)\n",
    "    return x\n",
    "\n",
    "  output = [ forward_single(input[n], network) for n in range(len(input))]\n",
    "  return output\n",
    "\n",
    "print(forward(x_train, NN))\n"
   ]
  },
  {
   "cell_type": "markdown",
   "metadata": {
    "id": "oLrGJytZFtGm"
   },
   "source": [
    "## Exercise h) Print all network parameters\n",
    "\n",
    "Make a function that prints all the parameters of the network (weights and biases) with information about in which layer the appear. In the object oriented spirit you should introduce a method in the DenseLayer class to print the parameters of a layer. Hint: You can take inspiration from the corresponding method in Var. "
   ]
  },
  {
   "cell_type": "code",
   "execution_count": 21,
   "metadata": {},
   "outputs": [
    {
     "name": "stdout",
     "output_type": "stream",
     "text": [
      "[layer 0]: in_dim: 1 | out_dim: 5\n",
      "  Weights[0][0] = -0.14543 | Bias[0] =  0.00\n",
      "  Weights[0][1] = -0.01758 | Bias[1] =  0.00\n",
      "  Weights[0][2] = -0.21821 | Bias[2] =  0.00\n",
      "  Weights[0][3] = -0.01660 | Bias[3] =  0.00\n",
      "  Weights[0][4] =  0.20564 | Bias[4] =  0.00\n",
      "\n",
      "\n",
      "[layer 1]: in_dim: 5 | out_dim: 1\n",
      "  Weights[0][0] =  0.01930 | Bias[0] =  0.00\n",
      "  Weights[1][0] =  0.05473 | Bias[0] =  0.00\n",
      "  Weights[2][0] = -0.00097 | Bias[0] =  0.00\n",
      "  Weights[3][0] =  0.06469 | Bias[0] =  0.00\n",
      "  Weights[4][0] =  0.08067 | Bias[0] =  0.00\n",
      "\n",
      "\n"
     ]
    }
   ],
   "source": [
    "def print_parameters(self,id=0):\n",
    "    weights = self.weights\n",
    "    print(\"[layer {}]: in_dim: {} | out_dim: {}\".format(id,len(weights),len(weights[0])))\n",
    "\n",
    "    for i in range(len(weights)):\n",
    "        for j in range(len(weights[0])):\n",
    "            v = weights[i][j].v\n",
    "            bias_j = self.bias[j].v\n",
    "            print(\"  Weights[{}][{}] = {: .5f} | Bias[{}] = {: .2f}\".format(i,j,v,j,bias_j))\n",
    "    print(\"\\n\")\n",
    "\n",
    "DenseLayer.print_parameters = print_parameters\n",
    "\n",
    "for i,layer in enumerate(NN):\n",
    "    layer.print_parameters(i)"
   ]
  },
  {
   "cell_type": "markdown",
   "metadata": {
    "id": "_79HOAXrFtHK"
   },
   "source": [
    "## Visualization\n",
    "\n",
    "Now that we have defined our activation functions we can visualize them to see what they look like:"
   ]
  },
  {
   "cell_type": "code",
   "execution_count": 22,
   "metadata": {
    "id": "1FcylHqLTl-Z"
   },
   "outputs": [
    {
     "data": {
      "text/plain": [
       "[<matplotlib.lines.Line2D at 0x22991a64390>]"
      ]
     },
     "execution_count": 22,
     "metadata": {},
     "output_type": "execute_result"
    },
    {
     "data": {
      "image/png": "[encoded data removed]",
      "text/plain": [
       "<Figure size 640x480 with 1 Axes>"
      ]
     },
     "metadata": {},
     "output_type": "display_data"
    }
   ],
   "source": [
    "x = np.linspace(-6, 6, 100)\n",
    "\n",
    "# convert from Var to ndarray  \n",
    "def Var_to_nparray(x):\n",
    "  y = np.zeros((len(x),len(x[0])))\n",
    "  for i in range(len(x)):\n",
    "    for j in range(len(x[0])):\n",
    "      y[i,j] = x[i][j].v\n",
    "  return y\n",
    "\n",
    "# define 1-1 network with weight = 1 and relu activation \n",
    "NN = [ DenseLayer(1, 1, lambda x: x.relu(), initializer = ConstantInitializer(1.0)) ] \n",
    "y = Var_to_nparray(forward(nparray_to_Var(x), NN))\n",
    "\n",
    "#y = Var_to_nparray(relu(nparray_to_Var(x)))\n",
    "plt.plot(x,y)"
   ]
  },
  {
   "cell_type": "code",
   "execution_count": 23,
   "metadata": {
    "id": "oOL2UolJFtHL"
   },
   "outputs": [
    {
     "data": {
      "image/png": "[encoded data removed]",
      "text/plain": [
       "<Figure size 500x500 with 1 Axes>"
      ]
     },
     "metadata": {},
     "output_type": "display_data"
    }
   ],
   "source": [
    "# Testing all activation layers\n",
    "\n",
    "x = np.linspace(-6, 6, 100)\n",
    "units = {\n",
    "    \"identity\": lambda x: x.identity(),\n",
    "    \"sigmoid\": lambda x: x.sigmoid(),\n",
    "    \"relu\": lambda x: x.relu(),\n",
    "    \"tanh\": lambda x: x.tanh()\n",
    "}\n",
    "\n",
    "plt.figure(figsize=(5, 5))\n",
    "[plt.plot(x, Var_to_nparray(forward(nparray_to_Var(x), [DenseLayer(1, 1, unit, initializer = ConstantInitializer(1.0))]) ), label=unit_name, lw=2) for unit_name, unit in units.items()] # unit(nparray_to_Var(x))), label=unit_name, lw=2) for unit_name, unit in units.items()]\n",
    "plt.legend(loc=2, fontsize=16)\n",
    "plt.title('Our activation functions', fontsize=20)\n",
    "plt.ylim([-2, 5])\n",
    "plt.xlim([-6, 6])\n",
    "plt.show()"
   ]
  },
  {
   "cell_type": "markdown",
   "metadata": {
    "id": "b-jdEl-7FtGs"
   },
   "source": [
    "# Advanced initialization schemes\n",
    "\n",
    "If we are not careful with initialization, the signals we propagate forward ($a^{(l)}$, $l=1,\\ldots,L$) and backward ($\\delta^l$, $l=L,L-1,\\ldots,1$) can blow up or shrink to zero. A statistical analysis of the variance of the signals for different activation functions can be found in these two papers: [Glorot initialization](http://proceedings.mlr.press/v9/glorot10a/glorot10a.pdf) and [He initialization](https://arxiv.org/pdf/1502.01852v1.pdf). \n",
    "\n",
    "The result of the analyses are proposals for how to make the initialization such that the variance of the signals (forward and backward) are kept approxmimatly constant when propagating from layer to layer. The exact expressions depend upon the non-linear activation function used. In Glorot initialization, the aim is to keep both the forward and backward variances constant whereas He only aims at keeping the variance in the forward pass constant.\n",
    "\n",
    "We define $n_{in}$ and $n_{out}$ as the number of input units and output units of a particular layer. \n",
    "\n",
    "The Glorot initialization has the form: \n",
    "\n",
    "$$w_{ij} \\sim N \\bigg( 0, \\, \\frac{2 \\alpha }{n_{in} + n_{out}} \\bigg) \\ . $$\n",
    "\n",
    "where $N(\\mu,\\sigma^2)$ is a Gaussian distribution with mean $\\mu$ and variance $\\sigma^2$ and $\\alpha$ is a parameter that depends upon the activation function used. For $\\tanh$, $\\alpha=1$ and for Rectified Linear Unit (ReLU) activations, $\\alpha=2$. (It is also possible to use a uniform distribution for initialization, see [this blog post](https://mmuratarat.github.io/2019-02-25/xavier-glorot-he-weight-init).) \n",
    "\n",
    "The He initialization is very similar\n",
    "\n",
    "$$w_{ij} \\sim N \\bigg( 0, \\, \\frac{\\alpha}{n_{in}} \\bigg) \\ . $$"
   ]
  },
  {
   "cell_type": "markdown",
   "metadata": {
    "id": "mqeyab9qFtGs"
   },
   "source": [
    "## Exercise i) Glorot and He initialization\n",
    " \n",
    "Using the Initializer class, implement functions that implement Glorot and He \n",
    "\n",
    "Explain briefly how you would test numerically that these initializations have the sought after property. Hint: See plots in Glorot paper.\n",
    "\n",
    "Comment: If you want to be more advanced then try to make a universal initializer taking both the activation function and type (Glorot or He) as argument."
   ]
  },
  {
   "cell_type": "code",
   "execution_count": 24,
   "metadata": {
    "id": "Qyk01CgaFtGt"
   },
   "outputs": [],
   "source": [
    "## Glorot\n",
    "def DenseLayer_Glorot_tanh(n_in: int, n_out: int):\n",
    "  std = (2*1/(n_in+n_out))**(1/2)  # <- replace with proper initialization\n",
    "  return DenseLayer(n_in, n_out, lambda x: x.tanh(), initializer = NormalInitializer(std))\n",
    "\n",
    "## He\n",
    "def DenseLayer_He_relu(n_in: int, n_out: int):\n",
    "  std = (2/n_in)**(1/2) # <- replace with proper initialization\n",
    "  return DenseLayer(n_in, n_out, lambda x: x.relu(), initializer = NormalInitializer(std))"
   ]
  },
  {
   "cell_type": "markdown",
   "metadata": {
    "id": "-XyXBD37FtHk"
   },
   "source": [
    "## Exercise j) Forward pass unit test\n",
    "\n",
    "Write a bit of code to make a unit test that the forward pass works. This can be done by defining a simple network with for example all weights equal to one (using the ConstantInitializer method) and identity activation functions. \n",
    "\n",
    "Hints: Use the [assert](https://www.w3schools.com/python/ref_keyword_assert.asp), the nparray_to_Var and the Var_to_nparray commands. "
   ]
  },
  {
   "cell_type": "code",
   "execution_count": 25,
   "metadata": {},
   "outputs": [
    {
     "name": "stdout",
     "output_type": "stream",
     "text": [
      "All output of forward match expected output.\n"
     ]
    }
   ],
   "source": [
    "n_in = 3\n",
    "n_out = 5\n",
    "input_data = np.array([[1.0,2.0,3.0],[4.0,5.0,6.0]])\n",
    "input_Var = nparray_to_Var(input_data)\n",
    "\n",
    "NN = [DenseLayer(n_in, n_out, lambda x: x.identity(), initializer = ConstantInitializer(weight = 1.0))]\n",
    "\n",
    "out_Var = forward(input_Var,NN)\n",
    "\n",
    "out_data = Var_to_nparray(out_Var)\n",
    "\n",
    "exp_out_data = []\n",
    "for x_data in input_data:\n",
    "    exp_out = np.array([1.0 * np.sum(x_data)] * n_out)\n",
    "    exp_out_data.append(exp_out)\n",
    "\n",
    "for i in range(len(out_data)):\n",
    "    assert np.equal(out_data[i],exp_out_data[i]).all(), \"output of forward does not match expected output\"\n",
    "print(\"All output of forward match expected output.\")"
   ]
  },
  {
   "cell_type": "markdown",
   "metadata": {
    "id": "faCxhfFnFtHp"
   },
   "source": [
    "# Loss functions\n",
    "\n",
    "We are only missing a loss function to we need to define a loss function and its derivative with respect to the output of the neural network $y$"
   ]
  },
  {
   "cell_type": "code",
   "execution_count": 26,
   "metadata": {
    "id": "I2eDYKvAFtHq"
   },
   "outputs": [],
   "source": [
    "def squared_loss(t, y):\n",
    "  \n",
    "    # add check that sizes agree\n",
    "    assert len(t) == len(y), \"t and y must have same size\"\n",
    "  \n",
    "    def squared_loss_single(t, y):\n",
    "        Loss = Var(0.0)\n",
    "        for i in range(len(t)): # sum over outputs\n",
    "            Loss += (t[i]-y[i]) ** 2\n",
    "        return Loss\n",
    "\n",
    "    Loss = Var(0.0)\n",
    "    for n in range(len(t)): # sum over training data\n",
    "        Loss += squared_loss_single(t[n],y[n])\n",
    "    return Loss"
   ]
  },
  {
   "cell_type": "markdown",
   "metadata": {
    "id": "SrwSJ2UWFtHu"
   },
   "source": [
    "## Exercise k) Implement cross entropy loss\n",
    "\n",
    "Insert code below to implement cross-entropy loss for general dimensionality of $t$. Use a logits formulation:\n",
    "$$\n",
    "\\rm{Loss} = - \\sum_i t_i \\, log \\, p_i \n",
    "$$\n",
    "with $p$ given by the the softmax function in terms of the logits $h$:\n",
    "$$\n",
    "p_i = \\frac{\\exp(h_i)}{\\sum_{i'} \\exp(h_{i'})} .\n",
    "$$\n",
    "Inserting $p$ in the expression for the loss gives\n",
    "$$\n",
    "\\rm{Loss} = - \\sum_i t_i h_i + \\rm{LogSumExp}(h) \\ ,\n",
    "$$\n",
    "where \n",
    "$$\n",
    "\\rm{LogSumExp}(h) = \\log \\sum_i \\exp h_i \\ .\n",
    "$$\n",
    "This is true for $t$ being a one-hot vector. \n",
    "\n",
    "Call the function to convince yourself it works. \n",
    "\n",
    "In practice you want to implement a [numerically stable](https://leimao.github.io/blog/LogSumExp/) version of LogSumExp. But we will not bother about that here.\n",
    "\n",
    "Help: You can add these methods in the Var class:\n",
    "\n",
    "    def exp(self):\n",
    "        return Var(exp(self.v), lambda: [(self, exp(self.v))])\n",
    "    \n",
    "    def log(self):\n",
    "        return Var(log(self.v), lambda: [(self, self.v ** -1)])"
   ]
  },
  {
   "cell_type": "code",
   "execution_count": 27,
   "metadata": {},
   "outputs": [],
   "source": [
    "def exp(self):\n",
    "    return Var(exp(self.v), lambda: [(self, exp(self.v))])\n",
    "\n",
    "def log(self):\n",
    "    return Var(log(self.v), lambda: [(self, self.v ** -1)])\n",
    "\n",
    "Var.exp = exp\n",
    "Var.log = log"
   ]
  },
  {
   "cell_type": "code",
   "execution_count": 28,
   "metadata": {
    "id": "6nMuxyfzFtHv"
   },
   "outputs": [],
   "source": [
    "def cross_entropy_loss(t, h):\n",
    "    \n",
    "    Loss = Var(0.0)\n",
    "    SumExp = Var(0.0)\n",
    "\n",
    "    for i in range(len(h)):\n",
    "        SumExp += h[i].exp()\n",
    "        \n",
    "    LogSumExp = SumExp.log()\n",
    "    \n",
    "    for i in range(len(t)):\n",
    "        Loss += -(t[i]*h[i])\n",
    "\n",
    "    Loss = Loss + LogSumExp\n",
    "    \n",
    "    return Loss"
   ]
  },
  {
   "cell_type": "markdown",
   "metadata": {
    "id": "8fAF5ew4FtHy"
   },
   "source": [
    "# Backward pass\n",
    "\n",
    "Now the magic happens! We get the calculation of the gradients for free. Just do:"
   ]
  },
  {
   "cell_type": "code",
   "execution_count": 29,
   "metadata": {
    "id": "iHyfPPI9Qqwu"
   },
   "outputs": [],
   "source": [
    "NN = [\n",
    "    DenseLayer(1, 5, lambda x: x.relu()),\n",
    "    DenseLayer(5, 1, lambda x: x.identity())\n",
    "]\n",
    "\n",
    "output = forward(x_train, NN)\n",
    "\n",
    "Loss = squared_loss(y_train,output)\n",
    "Loss.backward()"
   ]
  },
  {
   "cell_type": "markdown",
   "metadata": {
    "id": "49biIAYKQ1oG"
   },
   "source": [
    "and the gradients will be calculated:"
   ]
  },
  {
   "cell_type": "code",
   "execution_count": 30,
   "metadata": {
    "id": "_rGt1bq_Q7uk"
   },
   "outputs": [
    {
     "name": "stdout",
     "output_type": "stream",
     "text": [
      "Layer 0 \n",
      " Weights: [[Var(v=0.0658, grad=-0.3768), Var(v=0.0990, grad=0.1572), Var(v=0.0674, grad=-0.0141), Var(v=0.0457, grad=-0.4177), Var(v=0.0357, grad=-0.3206)]] Biases: [Var(v=0.0000, grad=-0.2731), Var(v=0.0000, grad=0.1139), Var(v=0.0000, grad=-0.0102), Var(v=0.0000, grad=-0.3028), Var(v=0.0000, grad=-0.2324)]\n",
      "Layer 1 \n",
      " Weights: [[Var(v=0.1592, grad=-0.1557)], [Var(v=-0.0664, grad=-0.2343)], [Var(v=0.0060, grad=-0.1594)], [Var(v=0.1765, grad=-0.1082)], [Var(v=0.1355, grad=-0.0844)]] Biases: [Var(v=0.0000, grad=-1.7152)]\n"
     ]
    },
    {
     "data": {
      "text/plain": [
       "[None, None]"
      ]
     },
     "execution_count": 30,
     "metadata": {},
     "output_type": "execute_result"
    }
   ],
   "source": [
    "[print('Layer', i, '\\n', NN[i]) for i in range(len(NN))] "
   ]
  },
  {
   "cell_type": "markdown",
   "metadata": {
    "id": "D7d7qK0uFtH9"
   },
   "source": [
    "# Backward pass unit test\n",
    "\n",
    "Above we used finite differences to test that Nanograd is actually doing what it is supposed to do. We can in principle try the same for the neural network. But we will trust that the test above is enough."
   ]
  },
  {
   "cell_type": "markdown",
   "metadata": {
    "id": "WgBi8GOSFtIN"
   },
   "source": [
    "# Training and validation\n",
    "\n",
    "We are ready to train some neural networks!\n",
    "\n",
    "We initialize again:"
   ]
  },
  {
   "cell_type": "code",
   "execution_count": 31,
   "metadata": {
    "id": "01ePmzBzRtdh"
   },
   "outputs": [],
   "source": [
    "NN = [\n",
    "    DenseLayer(1, 15, lambda x: x.relu()),\n",
    "    DenseLayer(15, 50, lambda x: x.relu()),\n",
    "    DenseLayer(50, 1, lambda x: x.identity())\n",
    "]\n",
    "\n",
    "output = forward(x_train, NN)\n",
    "\n",
    "Loss = squared_loss(y_train,output)\n",
    "Loss.backward()"
   ]
  },
  {
   "cell_type": "markdown",
   "metadata": {
    "id": "10iRPiQ1ISHw"
   },
   "source": [
    "and make an update:\n",
    "\n",
    "We introduce a help function parameters to have a handle in all parameters in the network."
   ]
  },
  {
   "cell_type": "code",
   "execution_count": 32,
   "metadata": {
    "id": "dhAI7eyeznia"
   },
   "outputs": [
    {
     "name": "stdout",
     "output_type": "stream",
     "text": [
      "Network before update:\n",
      "Layer 0 \n",
      " Weights: [[Var(v=0.1563, grad=-0.0036), Var(v=-0.0393, grad=0.0013), Var(v=0.0116, grad=0.0197), Var(v=0.0311, grad=-0.0303), Var(v=-0.0796, grad=-0.0502), Var(v=0.0757, grad=0.0107), Var(v=-0.0517, grad=-0.0335), Var(v=-0.0441, grad=0.0444), Var(v=-0.0433, grad=-0.0245), Var(v=-0.0358, grad=0.0099), Var(v=-0.1193, grad=-0.0169), Var(v=-0.1545, grad=0.0111), Var(v=0.0033, grad=-0.0036), Var(v=0.0243, grad=-0.0219), Var(v=-0.1156, grad=-0.0156)]] Biases: [Var(v=0.0000, grad=-0.0026), Var(v=0.0000, grad=-0.0011), Var(v=0.0000, grad=0.0143), Var(v=0.0000, grad=-0.0220), Var(v=0.0000, grad=0.0401), Var(v=0.0000, grad=0.0077), Var(v=0.0000, grad=0.0268), Var(v=0.0000, grad=-0.0355), Var(v=0.0000, grad=0.0196), Var(v=0.0000, grad=-0.0079), Var(v=0.0000, grad=0.0135), Var(v=0.0000, grad=-0.0089), Var(v=0.0000, grad=-0.0026), Var(v=0.0000, grad=-0.0159), Var(v=0.0000, grad=0.0125)]\n",
      "Layer 1 \n",
      " Weights: [[Var(v=0.1264, grad=0.0034), Var(v=0.0513, grad=0.0002), Var(v=-0.1281, grad=0.0000), Var(v=-0.0711, grad=0.0000), Var(v=-0.0538, grad=0.0000), Var(v=-0.1649, grad=0.0000), Var(v=-0.2325, grad=0.0000), Var(v=-0.0430, grad=0.0000), Var(v=-0.2263, grad=0.0000), Var(v=-0.0722, grad=0.0000), Var(v=0.1986, grad=-0.0034), Var(v=0.0565, grad=-0.0041), Var(v=-0.1028, grad=0.0000), Var(v=0.0470, grad=0.0000), Var(v=0.0256, grad=-0.0014), Var(v=-0.0199, grad=0.0123), Var(v=0.0399, grad=0.0000), Var(v=-0.0269, grad=0.0000), Var(v=0.0961, grad=0.0035), Var(v=0.0448, grad=-0.0019), Var(v=-0.2166, grad=0.0000), Var(v=-0.0284, grad=0.0000), Var(v=-0.0818, grad=0.0000), Var(v=-0.0966, grad=0.0000), Var(v=0.0036, grad=-0.0111), Var(v=0.0013, grad=0.0000), Var(v=0.1336, grad=0.0029), Var(v=0.1177, grad=0.0068), Var(v=-0.1018, grad=0.0000), Var(v=0.0824, grad=0.0054), Var(v=-0.0415, grad=0.0000), Var(v=0.1049, grad=0.0038), Var(v=0.0486, grad=0.0000), Var(v=-0.0055, grad=0.0057), Var(v=-0.0557, grad=0.0000), Var(v=-0.0139, grad=0.0148), Var(v=-0.0570, grad=-0.0025), Var(v=0.1028, grad=-0.0041), Var(v=0.1252, grad=-0.0005), Var(v=-0.1127, grad=0.0000), Var(v=-0.0495, grad=0.0000), Var(v=-0.0597, grad=0.0000), Var(v=0.1925, grad=0.0014), Var(v=0.1229, grad=-0.0038), Var(v=0.0210, grad=0.0004), Var(v=-0.0196, grad=0.0000), Var(v=0.1645, grad=-0.0082), Var(v=-0.0140, grad=-0.0029), Var(v=-0.1015, grad=0.0000), Var(v=0.0079, grad=0.0007)], [Var(v=0.0704, grad=-0.0020), Var(v=0.0953, grad=0.0000), Var(v=0.0049, grad=0.0000), Var(v=-0.2104, grad=0.0000), Var(v=-0.0671, grad=0.0008), Var(v=0.1693, grad=0.0000), Var(v=-0.0182, grad=0.0000), Var(v=0.0254, grad=-0.0003), Var(v=0.1221, grad=0.0032), Var(v=-0.0316, grad=0.0000), Var(v=0.1319, grad=0.0020), Var(v=-0.1421, grad=0.0000), Var(v=-0.0293, grad=-0.0015), Var(v=0.0724, grad=0.0035), Var(v=-0.0209, grad=0.0008), Var(v=-0.0580, grad=0.0000), Var(v=0.1509, grad=0.0000), Var(v=0.1843, grad=0.0008), Var(v=0.0418, grad=0.0000), Var(v=-0.0829, grad=0.0000), Var(v=-0.1316, grad=-0.0015), Var(v=-0.0678, grad=0.0000), Var(v=0.1390, grad=0.0000), Var(v=0.1778, grad=0.0010), Var(v=-0.1545, grad=0.0000), Var(v=0.0175, grad=0.0000), Var(v=-0.0396, grad=0.0000), Var(v=0.0536, grad=0.0000), Var(v=-0.0327, grad=-0.0020), Var(v=0.2201, grad=-0.0032), Var(v=0.1201, grad=0.0000), Var(v=-0.0188, grad=0.0000), Var(v=-0.0946, grad=0.0000), Var(v=-0.0328, grad=-0.0034), Var(v=0.1038, grad=0.0000), Var(v=0.0652, grad=-0.0087), Var(v=-0.0255, grad=0.0015), Var(v=0.0239, grad=0.0024), Var(v=-0.0211, grad=0.0000), Var(v=0.1409, grad=0.0000), Var(v=-0.0822, grad=0.0037), Var(v=0.0536, grad=-0.0016), Var(v=0.1738, grad=0.0000), Var(v=-0.2205, grad=0.0000), Var(v=-0.0710, grad=0.0000), Var(v=0.1389, grad=0.0000), Var(v=-0.0478, grad=0.0048), Var(v=0.2080, grad=0.0017), Var(v=0.0175, grad=0.0007), Var(v=-0.2083, grad=0.0000)], [Var(v=-0.1035, grad=0.0003), Var(v=0.1177, grad=0.0000), Var(v=0.1029, grad=0.0000), Var(v=-0.0237, grad=0.0000), Var(v=-0.0682, grad=0.0000), Var(v=0.0112, grad=0.0000), Var(v=-0.0993, grad=0.0000), Var(v=0.1879, grad=0.0000), Var(v=0.1209, grad=0.0000), Var(v=0.1144, grad=0.0000), Var(v=-0.1973, grad=-0.0003), Var(v=0.1000, grad=-0.0003), Var(v=-0.0172, grad=0.0000), Var(v=-0.2421, grad=0.0000), Var(v=-0.0673, grad=-0.0001), Var(v=0.0882, grad=0.0009), Var(v=-0.0429, grad=0.0000), Var(v=-0.1805, grad=0.0000), Var(v=0.0310, grad=0.0003), Var(v=-0.0192, grad=-0.0001), Var(v=0.0597, grad=0.0000), Var(v=0.1806, grad=0.0000), Var(v=-0.0948, grad=0.0000), Var(v=-0.1534, grad=0.0000), Var(v=-0.1582, grad=-0.0008), Var(v=0.0588, grad=0.0000), Var(v=0.0946, grad=0.0002), Var(v=0.0503, grad=0.0005), Var(v=0.0010, grad=0.0000), Var(v=-0.0266, grad=0.0004), Var(v=-0.1097, grad=0.0000), Var(v=-0.0229, grad=0.0003), Var(v=-0.0648, grad=0.0000), Var(v=-0.0570, grad=0.0004), Var(v=0.0138, grad=0.0000), Var(v=-0.0964, grad=0.0011), Var(v=0.0182, grad=-0.0002), Var(v=-0.1783, grad=-0.0003), Var(v=-0.0032, grad=-0.0000), Var(v=0.0960, grad=0.0000), Var(v=-0.0151, grad=0.0000), Var(v=0.0179, grad=0.0000), Var(v=0.0965, grad=0.0001), Var(v=0.0604, grad=-0.0003), Var(v=0.0822, grad=0.0000), Var(v=0.0593, grad=0.0000), Var(v=-0.0752, grad=-0.0006), Var(v=-0.0580, grad=-0.0002), Var(v=-0.0443, grad=0.0000), Var(v=0.0344, grad=0.0001)], [Var(v=0.0342, grad=0.0007), Var(v=-0.0835, grad=0.0000), Var(v=-0.0916, grad=0.0000), Var(v=0.0645, grad=0.0000), Var(v=0.0958, grad=0.0000), Var(v=0.1621, grad=0.0000), Var(v=-0.0347, grad=0.0000), Var(v=-0.0874, grad=0.0000), Var(v=0.0897, grad=0.0000), Var(v=0.0768, grad=0.0000), Var(v=0.0172, grad=-0.0007), Var(v=0.0632, grad=-0.0008), Var(v=-0.0702, grad=0.0000), Var(v=-0.0715, grad=0.0000), Var(v=0.1477, grad=-0.0003), Var(v=-0.1029, grad=0.0024), Var(v=0.0199, grad=0.0000), Var(v=0.0419, grad=0.0000), Var(v=-0.1941, grad=0.0007), Var(v=0.1369, grad=-0.0004), Var(v=0.0152, grad=0.0000), Var(v=-0.0020, grad=0.0000), Var(v=0.0173, grad=0.0000), Var(v=-0.0818, grad=0.0000), Var(v=-0.1059, grad=-0.0022), Var(v=-0.0324, grad=0.0000), Var(v=-0.0566, grad=0.0006), Var(v=-0.0120, grad=0.0014), Var(v=0.1040, grad=0.0000), Var(v=-0.1115, grad=0.0011), Var(v=0.0821, grad=0.0000), Var(v=0.0227, grad=0.0008), Var(v=-0.1158, grad=0.0000), Var(v=0.1250, grad=0.0011), Var(v=-0.0925, grad=0.0000), Var(v=-0.1145, grad=0.0029), Var(v=0.0789, grad=-0.0005), Var(v=0.0259, grad=-0.0008), Var(v=-0.0967, grad=-0.0001), Var(v=0.0670, grad=0.0000), Var(v=-0.0246, grad=0.0000), Var(v=0.2139, grad=0.0000), Var(v=-0.0011, grad=0.0003), Var(v=0.2025, grad=-0.0007), Var(v=-0.0506, grad=0.0001), Var(v=-0.0183, grad=0.0000), Var(v=0.0421, grad=-0.0016), Var(v=0.0582, grad=-0.0006), Var(v=0.0628, grad=0.0000), Var(v=0.0241, grad=0.0001)], [Var(v=0.1153, grad=-0.0040), Var(v=-0.0491, grad=0.0000), Var(v=-0.0958, grad=0.0000), Var(v=-0.0051, grad=0.0000), Var(v=0.0266, grad=0.0016), Var(v=-0.1469, grad=0.0000), Var(v=-0.2072, grad=0.0000), Var(v=-0.0125, grad=-0.0006), Var(v=0.0501, grad=0.0065), Var(v=0.1543, grad=0.0000), Var(v=-0.0890, grad=0.0041), Var(v=-0.2242, grad=0.0000), Var(v=0.1408, grad=-0.0031), Var(v=0.1562, grad=0.0072), Var(v=0.1908, grad=0.0017), Var(v=-0.0651, grad=0.0000), Var(v=0.0019, grad=0.0000), Var(v=-0.0447, grad=0.0016), Var(v=-0.2143, grad=0.0000), Var(v=0.1261, grad=0.0000), Var(v=-0.0030, grad=-0.0030), Var(v=-0.1067, grad=0.0000), Var(v=-0.1349, grad=0.0000), Var(v=0.0531, grad=0.0020), Var(v=0.0019, grad=0.0000), Var(v=0.0510, grad=0.0000), Var(v=-0.0683, grad=0.0000), Var(v=-0.0379, grad=0.0000), Var(v=0.1287, grad=-0.0040), Var(v=-0.0451, grad=-0.0064), Var(v=0.0309, grad=0.0000), Var(v=0.1659, grad=0.0000), Var(v=-0.2554, grad=0.0000), Var(v=-0.0137, grad=-0.0068), Var(v=0.0984, grad=0.0000), Var(v=-0.0106, grad=-0.0176), Var(v=0.1010, grad=0.0030), Var(v=0.0948, grad=0.0049), Var(v=-0.0911, grad=0.0000), Var(v=0.0154, grad=0.0000), Var(v=0.0776, grad=0.0075), Var(v=-0.0665, grad=-0.0032), Var(v=-0.0602, grad=0.0000), Var(v=-0.0880, grad=0.0000), Var(v=-0.2257, grad=0.0000), Var(v=-0.2109, grad=0.0000), Var(v=0.1295, grad=0.0097), Var(v=0.0751, grad=0.0035), Var(v=0.2045, grad=0.0013), Var(v=-0.1900, grad=0.0000)], [Var(v=0.0913, grad=0.0016), Var(v=0.0111, grad=0.0001), Var(v=-0.1121, grad=0.0000), Var(v=0.0980, grad=0.0000), Var(v=0.0485, grad=0.0000), Var(v=0.1163, grad=0.0000), Var(v=-0.0719, grad=0.0000), Var(v=-0.0601, grad=0.0000), Var(v=-0.2573, grad=0.0000), Var(v=-0.1029, grad=0.0000), Var(v=0.0512, grad=-0.0017), Var(v=0.0857, grad=-0.0020), Var(v=-0.1452, grad=0.0000), Var(v=-0.0909, grad=0.0000), Var(v=0.0380, grad=-0.0007), Var(v=0.2045, grad=0.0060), Var(v=-0.1227, grad=0.0000), Var(v=-0.1408, grad=0.0000), Var(v=0.0400, grad=0.0017), Var(v=-0.1098, grad=-0.0009), Var(v=0.0263, grad=0.0000), Var(v=0.0293, grad=0.0000), Var(v=0.0178, grad=0.0000), Var(v=-0.0312, grad=0.0000), Var(v=0.1769, grad=-0.0054), Var(v=-0.1209, grad=0.0000), Var(v=0.0394, grad=0.0014), Var(v=-0.0752, grad=0.0033), Var(v=0.0445, grad=0.0000), Var(v=-0.0774, grad=0.0026), Var(v=-0.0162, grad=0.0000), Var(v=-0.2100, grad=0.0019), Var(v=-0.1366, grad=0.0000), Var(v=0.0904, grad=0.0028), Var(v=-0.0395, grad=0.0000), Var(v=0.1355, grad=0.0072), Var(v=0.0658, grad=-0.0012), Var(v=-0.1822, grad=-0.0020), Var(v=0.0449, grad=-0.0002), Var(v=-0.1173, grad=0.0000), Var(v=0.0623, grad=0.0000), Var(v=-0.1373, grad=0.0000), Var(v=0.0709, grad=0.0007), Var(v=0.0241, grad=-0.0018), Var(v=-0.0711, grad=0.0002), Var(v=-0.0101, grad=0.0000), Var(v=-0.0172, grad=-0.0040), Var(v=0.1970, grad=-0.0014), Var(v=-0.0007, grad=0.0000), Var(v=0.0496, grad=0.0003)], [Var(v=-0.0002, grad=-0.0026), Var(v=0.0469, grad=0.0000), Var(v=-0.1250, grad=0.0000), Var(v=0.0146, grad=0.0000), Var(v=0.0849, grad=0.0010), Var(v=-0.0398, grad=0.0000), Var(v=-0.0250, grad=0.0000), Var(v=0.0355, grad=-0.0004), Var(v=0.1269, grad=0.0042), Var(v=0.1294, grad=0.0000), Var(v=0.2031, grad=0.0026), Var(v=-0.2222, grad=0.0000), Var(v=0.0698, grad=-0.0020), Var(v=-0.0157, grad=0.0047), Var(v=-0.1334, grad=0.0011), Var(v=-0.1753, grad=0.0000), Var(v=-0.1051, grad=0.0000), Var(v=-0.2310, grad=0.0011), Var(v=0.0053, grad=0.0000), Var(v=-0.1475, grad=0.0000), Var(v=-0.0670, grad=-0.0020), Var(v=-0.0782, grad=0.0000), Var(v=0.0324, grad=0.0000), Var(v=-0.0550, grad=0.0013), Var(v=0.1339, grad=0.0000), Var(v=0.1857, grad=0.0000), Var(v=-0.0151, grad=0.0000), Var(v=0.0381, grad=0.0000), Var(v=0.0532, grad=-0.0026), Var(v=-0.0248, grad=-0.0042), Var(v=-0.1506, grad=0.0000), Var(v=-0.1120, grad=0.0000), Var(v=-0.1859, grad=0.0000), Var(v=0.0216, grad=-0.0044), Var(v=-0.0699, grad=0.0000), Var(v=-0.0395, grad=-0.0114), Var(v=0.2681, grad=0.0020), Var(v=0.1751, grad=0.0032), Var(v=-0.0433, grad=0.0000), Var(v=0.0447, grad=0.0000), Var(v=0.0794, grad=0.0049), Var(v=-0.0379, grad=-0.0021), Var(v=0.1132, grad=0.0000), Var(v=0.0643, grad=0.0000), Var(v=0.1231, grad=0.0000), Var(v=0.0355, grad=0.0000), Var(v=-0.0601, grad=0.0063), Var(v=-0.1200, grad=0.0023), Var(v=-0.0888, grad=0.0009), Var(v=-0.0066, grad=0.0000)], [Var(v=-0.0309, grad=-0.0022), Var(v=-0.0636, grad=0.0000), Var(v=0.1266, grad=0.0000), Var(v=0.0850, grad=0.0000), Var(v=0.0447, grad=0.0009), Var(v=0.0857, grad=0.0000), Var(v=0.1524, grad=0.0000), Var(v=-0.0174, grad=-0.0003), Var(v=-0.0010, grad=0.0036), Var(v=-0.0112, grad=0.0000), Var(v=0.0917, grad=0.0022), Var(v=0.0033, grad=0.0000), Var(v=-0.0156, grad=-0.0017), Var(v=0.1602, grad=0.0040), Var(v=-0.1015, grad=0.0009), Var(v=-0.1745, grad=0.0000), Var(v=0.1316, grad=0.0000), Var(v=-0.0606, grad=0.0009), Var(v=0.0566, grad=0.0000), Var(v=-0.1751, grad=0.0000), Var(v=0.0386, grad=-0.0017), Var(v=-0.2636, grad=0.0000), Var(v=0.0053, grad=0.0000), Var(v=0.0236, grad=0.0011), Var(v=-0.1318, grad=0.0000), Var(v=0.0650, grad=0.0000), Var(v=-0.0527, grad=0.0000), Var(v=-0.0525, grad=0.0000), Var(v=0.2586, grad=-0.0022), Var(v=0.0912, grad=-0.0035), Var(v=0.0096, grad=0.0000), Var(v=0.0706, grad=0.0000), Var(v=-0.1359, grad=0.0000), Var(v=-0.1227, grad=-0.0038), Var(v=-0.0782, grad=0.0000), Var(v=0.1456, grad=-0.0097), Var(v=-0.0845, grad=0.0017), Var(v=0.0418, grad=0.0027), Var(v=-0.0944, grad=0.0000), Var(v=-0.1872, grad=0.0000), Var(v=-0.1679, grad=0.0041), Var(v=-0.1147, grad=-0.0018), Var(v=-0.0062, grad=0.0000), Var(v=-0.1339, grad=0.0000), Var(v=0.2318, grad=0.0000), Var(v=0.0776, grad=0.0000), Var(v=-0.0783, grad=0.0054), Var(v=0.0633, grad=0.0019), Var(v=-0.0986, grad=0.0007), Var(v=-0.1385, grad=0.0000)], [Var(v=0.0486, grad=-0.0022), Var(v=0.1646, grad=0.0000), Var(v=0.2899, grad=0.0000), Var(v=-0.1445, grad=0.0000), Var(v=0.1054, grad=0.0009), Var(v=0.0130, grad=0.0000), Var(v=-0.0860, grad=0.0000), Var(v=0.1654, grad=-0.0003), Var(v=0.0126, grad=0.0035), Var(v=-0.0436, grad=0.0000), Var(v=-0.1743, grad=0.0022), Var(v=0.0697, grad=0.0000), Var(v=0.0770, grad=-0.0017), Var(v=-0.0270, grad=0.0039), Var(v=-0.2760, grad=0.0009), Var(v=-0.1152, grad=0.0000), Var(v=0.0440, grad=0.0000), Var(v=-0.0386, grad=0.0009), Var(v=0.0047, grad=0.0000), Var(v=0.0239, grad=0.0000), Var(v=-0.0144, grad=-0.0016), Var(v=0.0140, grad=0.0000), Var(v=0.0470, grad=0.0000), Var(v=-0.0422, grad=0.0011), Var(v=0.0663, grad=0.0000), Var(v=-0.1458, grad=0.0000), Var(v=-0.1234, grad=0.0000), Var(v=0.0611, grad=0.0000), Var(v=0.1042, grad=-0.0022), Var(v=0.0742, grad=-0.0035), Var(v=-0.0037, grad=0.0000), Var(v=-0.0544, grad=0.0000), Var(v=-0.0338, grad=0.0000), Var(v=-0.1545, grad=-0.0037), Var(v=-0.2722, grad=0.0000), Var(v=-0.0510, grad=-0.0096), Var(v=0.0262, grad=0.0016), Var(v=0.1683, grad=0.0026), Var(v=0.0509, grad=0.0000), Var(v=0.1475, grad=0.0000), Var(v=-0.0055, grad=0.0041), Var(v=0.0084, grad=-0.0017), Var(v=0.0725, grad=0.0000), Var(v=-0.0727, grad=0.0000), Var(v=0.0653, grad=0.0000), Var(v=-0.0733, grad=0.0000), Var(v=0.1967, grad=0.0053), Var(v=-0.0428, grad=0.0019), Var(v=0.0318, grad=0.0007), Var(v=0.0753, grad=0.0000)], [Var(v=-0.0610, grad=-0.0018), Var(v=-0.0215, grad=0.0000), Var(v=-0.1773, grad=0.0000), Var(v=0.0195, grad=0.0000), Var(v=-0.0034, grad=0.0007), Var(v=-0.1790, grad=0.0000), Var(v=-0.0223, grad=0.0000), Var(v=0.0488, grad=-0.0003), Var(v=-0.0353, grad=0.0029), Var(v=0.0315, grad=0.0000), Var(v=-0.0638, grad=0.0018), Var(v=0.0841, grad=0.0000), Var(v=-0.0491, grad=-0.0014), Var(v=0.1171, grad=0.0032), Var(v=-0.0737, grad=0.0008), Var(v=0.1000, grad=0.0000), Var(v=-0.0324, grad=0.0000), Var(v=0.1610, grad=0.0007), Var(v=-0.0165, grad=0.0000), Var(v=0.1881, grad=0.0000), Var(v=0.0414, grad=-0.0014), Var(v=-0.0863, grad=0.0000), Var(v=0.0260, grad=0.0000), Var(v=0.1805, grad=0.0009), Var(v=-0.0289, grad=0.0000), Var(v=-0.1433, grad=0.0000), Var(v=-0.0605, grad=0.0000), Var(v=0.0213, grad=0.0000), Var(v=-0.0771, grad=-0.0018), Var(v=0.0806, grad=-0.0029), Var(v=0.0722, grad=0.0000), Var(v=0.1783, grad=0.0000), Var(v=0.0498, grad=0.0000), Var(v=-0.1412, grad=-0.0031), Var(v=0.0324, grad=0.0000), Var(v=0.0213, grad=-0.0079), Var(v=-0.2406, grad=0.0014), Var(v=0.0004, grad=0.0022), Var(v=0.0431, grad=0.0000), Var(v=-0.0332, grad=0.0000), Var(v=0.0065, grad=0.0034), Var(v=-0.0157, grad=-0.0014), Var(v=-0.0660, grad=0.0000), Var(v=0.0337, grad=0.0000), Var(v=0.1045, grad=0.0000), Var(v=0.0347, grad=0.0000), Var(v=-0.1967, grad=0.0044), Var(v=0.1007, grad=0.0016), Var(v=-0.0597, grad=0.0006), Var(v=-0.0341, grad=0.0000)], [Var(v=-0.0678, grad=-0.0061), Var(v=-0.1125, grad=0.0000), Var(v=0.0714, grad=0.0000), Var(v=0.1331, grad=0.0000), Var(v=-0.0177, grad=0.0024), Var(v=-0.0400, grad=0.0000), Var(v=-0.0732, grad=0.0000), Var(v=0.0864, grad=-0.0009), Var(v=-0.0410, grad=0.0097), Var(v=-0.0490, grad=0.0000), Var(v=0.0098, grad=0.0061), Var(v=-0.0439, grad=0.0000), Var(v=0.0908, grad=-0.0046), Var(v=0.0385, grad=0.0107), Var(v=0.0010, grad=0.0025), Var(v=0.0698, grad=0.0000), Var(v=0.0047, grad=0.0000), Var(v=0.1063, grad=0.0025), Var(v=-0.0003, grad=0.0000), Var(v=0.1700, grad=0.0000), Var(v=0.0466, grad=-0.0045), Var(v=0.0680, grad=0.0000), Var(v=0.0331, grad=0.0000), Var(v=0.1346, grad=0.0030), Var(v=-0.0885, grad=0.0000), Var(v=-0.0422, grad=0.0000), Var(v=0.0733, grad=0.0000), Var(v=-0.0115, grad=0.0000), Var(v=-0.0829, grad=-0.0060), Var(v=-0.0274, grad=-0.0096), Var(v=-0.0572, grad=0.0000), Var(v=0.0001, grad=0.0000), Var(v=-0.1290, grad=0.0000), Var(v=0.1921, grad=-0.0103), Var(v=-0.0938, grad=0.0000), Var(v=0.0317, grad=-0.0264), Var(v=-0.0345, grad=0.0045), Var(v=0.2083, grad=0.0073), Var(v=0.0690, grad=0.0000), Var(v=-0.0156, grad=0.0000), Var(v=0.0614, grad=0.0112), Var(v=0.0645, grad=-0.0047), Var(v=-0.1459, grad=0.0000), Var(v=-0.0312, grad=0.0000), Var(v=-0.0478, grad=0.0000), Var(v=-0.2214, grad=0.0000), Var(v=0.0797, grad=0.0146), Var(v=0.1338, grad=0.0053), Var(v=0.0193, grad=0.0020), Var(v=-0.1588, grad=0.0000)], [Var(v=0.1231, grad=-0.0079), Var(v=-0.0788, grad=0.0000), Var(v=-0.0187, grad=0.0000), Var(v=-0.0975, grad=0.0000), Var(v=-0.0368, grad=0.0031), Var(v=-0.0437, grad=0.0000), Var(v=-0.1164, grad=0.0000), Var(v=-0.0555, grad=-0.0011), Var(v=0.1361, grad=0.0126), Var(v=-0.0450, grad=0.0000), Var(v=0.1446, grad=0.0079), Var(v=0.0641, grad=0.0000), Var(v=0.1045, grad=-0.0059), Var(v=-0.1044, grad=0.0139), Var(v=0.1050, grad=0.0032), Var(v=0.0459, grad=0.0000), Var(v=-0.1303, grad=0.0000), Var(v=-0.0415, grad=0.0032), Var(v=-0.1440, grad=0.0000), Var(v=-0.0184, grad=0.0000), Var(v=-0.0360, grad=-0.0059), Var(v=-0.1437, grad=0.0000), Var(v=-0.1423, grad=0.0000), Var(v=-0.0736, grad=0.0038), Var(v=-0.0813, grad=0.0000), Var(v=-0.1539, grad=0.0000), Var(v=0.0313, grad=0.0000), Var(v=-0.1782, grad=0.0000), Var(v=-0.0575, grad=-0.0078), Var(v=0.0409, grad=-0.0124), Var(v=-0.1153, grad=0.0000), Var(v=-0.0868, grad=0.0000), Var(v=0.0555, grad=0.0000), Var(v=0.0984, grad=-0.0133), Var(v=-0.0146, grad=0.0000), Var(v=0.0823, grad=-0.0341), Var(v=0.0489, grad=0.0058), Var(v=-0.0461, grad=0.0094), Var(v=0.0314, grad=0.0000), Var(v=-0.0375, grad=0.0000), Var(v=0.1389, grad=0.0145), Var(v=0.0802, grad=-0.0061), Var(v=-0.0142, grad=0.0000), Var(v=0.1397, grad=0.0000), Var(v=-0.1630, grad=0.0000), Var(v=-0.0663, grad=0.0000), Var(v=0.0434, grad=0.0189), Var(v=0.0174, grad=0.0068), Var(v=0.0970, grad=0.0026), Var(v=0.0567, grad=0.0000)], [Var(v=-0.2652, grad=0.0001), Var(v=0.1016, grad=0.0000), Var(v=0.1491, grad=0.0000), Var(v=-0.0225, grad=0.0000), Var(v=0.0199, grad=0.0000), Var(v=0.1610, grad=0.0000), Var(v=-0.0927, grad=0.0000), Var(v=-0.0800, grad=0.0000), Var(v=0.1473, grad=0.0000), Var(v=-0.0703, grad=0.0000), Var(v=0.0165, grad=-0.0001), Var(v=0.1703, grad=-0.0001), Var(v=0.0588, grad=0.0000), Var(v=-0.0575, grad=0.0000), Var(v=-0.1368, grad=-0.0000), Var(v=0.1303, grad=0.0003), Var(v=0.0372, grad=0.0000), Var(v=0.0365, grad=0.0000), Var(v=-0.3504, grad=0.0001), Var(v=-0.0538, grad=-0.0000), Var(v=0.0337, grad=0.0000), Var(v=-0.0519, grad=0.0000), Var(v=0.0153, grad=0.0000), Var(v=-0.0082, grad=0.0000), Var(v=0.2491, grad=-0.0002), Var(v=0.0715, grad=0.0000), Var(v=0.0177, grad=0.0001), Var(v=0.1245, grad=0.0001), Var(v=-0.1827, grad=0.0000), Var(v=0.0967, grad=0.0001), Var(v=-0.0210, grad=0.0000), Var(v=0.0130, grad=0.0001), Var(v=-0.1909, grad=0.0000), Var(v=-0.0526, grad=0.0001), Var(v=-0.1504, grad=0.0000), Var(v=0.0351, grad=0.0003), Var(v=0.0642, grad=-0.0001), Var(v=-0.1019, grad=-0.0001), Var(v=0.1700, grad=-0.0000), Var(v=-0.1443, grad=0.0000), Var(v=0.0232, grad=0.0000), Var(v=0.1325, grad=0.0000), Var(v=-0.0401, grad=0.0000), Var(v=0.0062, grad=-0.0001), Var(v=0.1949, grad=0.0000), Var(v=0.0245, grad=0.0000), Var(v=-0.1086, grad=-0.0002), Var(v=-0.1640, grad=-0.0001), Var(v=0.0804, grad=0.0000), Var(v=-0.0859, grad=0.0000)], [Var(v=-0.1657, grad=0.0005), Var(v=-0.0080, grad=0.0000), Var(v=-0.1945, grad=0.0000), Var(v=-0.0201, grad=0.0000), Var(v=-0.0905, grad=0.0000), Var(v=0.1878, grad=0.0000), Var(v=0.0377, grad=0.0000), Var(v=-0.0096, grad=0.0000), Var(v=-0.0452, grad=0.0000), Var(v=0.0158, grad=0.0000), Var(v=0.0528, grad=-0.0005), Var(v=-0.0848, grad=-0.0006), Var(v=-0.1466, grad=0.0000), Var(v=-0.1002, grad=0.0000), Var(v=0.0169, grad=-0.0002), Var(v=-0.0275, grad=0.0019), Var(v=-0.0446, grad=0.0000), Var(v=0.0567, grad=0.0000), Var(v=0.0505, grad=0.0005), Var(v=0.0783, grad=-0.0003), Var(v=0.0493, grad=0.0000), Var(v=-0.0447, grad=0.0000), Var(v=0.0178, grad=0.0000), Var(v=0.1512, grad=0.0000), Var(v=0.1737, grad=-0.0017), Var(v=-0.0120, grad=0.0000), Var(v=-0.0334, grad=0.0004), Var(v=0.0611, grad=0.0011), Var(v=-0.2155, grad=0.0000), Var(v=0.0890, grad=0.0008), Var(v=-0.1253, grad=0.0000), Var(v=-0.0337, grad=0.0006), Var(v=-0.1493, grad=0.0000), Var(v=-0.0616, grad=0.0009), Var(v=-0.0381, grad=0.0000), Var(v=0.0223, grad=0.0023), Var(v=0.0780, grad=-0.0004), Var(v=-0.0191, grad=-0.0006), Var(v=-0.0471, grad=-0.0001), Var(v=-0.0284, grad=0.0000), Var(v=-0.0520, grad=0.0000), Var(v=0.0246, grad=0.0000), Var(v=-0.0262, grad=0.0002), Var(v=0.1125, grad=-0.0006), Var(v=0.1549, grad=0.0001), Var(v=-0.1260, grad=0.0000), Var(v=0.0123, grad=-0.0013), Var(v=0.2672, grad=-0.0005), Var(v=0.0295, grad=0.0000), Var(v=-0.0430, grad=0.0001)], [Var(v=0.0990, grad=-0.0059), Var(v=0.0072, grad=0.0000), Var(v=-0.1130, grad=0.0000), Var(v=0.0107, grad=0.0000), Var(v=0.1040, grad=0.0023), Var(v=0.1022, grad=0.0000), Var(v=0.0297, grad=0.0000), Var(v=-0.0256, grad=-0.0009), Var(v=0.2508, grad=0.0094), Var(v=-0.1036, grad=0.0000), Var(v=-0.0579, grad=0.0059), Var(v=-0.0971, grad=0.0000), Var(v=-0.0046, grad=-0.0044), Var(v=0.1504, grad=0.0104), Var(v=0.0554, grad=0.0024), Var(v=0.0578, grad=0.0000), Var(v=-0.0267, grad=0.0000), Var(v=0.0499, grad=0.0024), Var(v=-0.1142, grad=0.0000), Var(v=-0.1934, grad=0.0000), Var(v=0.1537, grad=-0.0044), Var(v=-0.2324, grad=0.0000), Var(v=-0.0099, grad=0.0000), Var(v=-0.0885, grad=0.0029), Var(v=0.1913, grad=0.0000), Var(v=0.0526, grad=0.0000), Var(v=-0.0405, grad=0.0000), Var(v=0.0256, grad=0.0000), Var(v=0.0860, grad=-0.0059), Var(v=0.0506, grad=-0.0093), Var(v=0.0370, grad=0.0000), Var(v=-0.0156, grad=0.0000), Var(v=0.1484, grad=0.0000), Var(v=0.0015, grad=-0.0099), Var(v=0.0092, grad=0.0000), Var(v=0.0460, grad=-0.0255), Var(v=0.0536, grad=0.0044), Var(v=-0.0776, grad=0.0071), Var(v=-0.0633, grad=0.0000), Var(v=-0.0896, grad=0.0000), Var(v=0.0480, grad=0.0109), Var(v=-0.0588, grad=-0.0046), Var(v=-0.0559, grad=0.0000), Var(v=-0.0028, grad=0.0000), Var(v=-0.0051, grad=0.0000), Var(v=-0.0463, grad=0.0000), Var(v=0.0426, grad=0.0141), Var(v=0.0749, grad=0.0051), Var(v=-0.0575, grad=0.0019), Var(v=0.0714, grad=0.0000)]] Biases: [Var(v=0.0000, grad=-0.0249), Var(v=0.0000, grad=0.0009), Var(v=0.0000, grad=0.0000), Var(v=0.0000, grad=0.0000), Var(v=0.0000, grad=0.0159), Var(v=0.0000, grad=0.0000), Var(v=0.0000, grad=0.0000), Var(v=0.0000, grad=-0.0059), Var(v=0.0000, grad=0.0653), Var(v=0.0000, grad=0.0000), Var(v=0.0000, grad=0.0250), Var(v=0.0000, grad=-0.0190), Var(v=0.0000, grad=-0.0307), Var(v=0.0000, grad=0.0721), Var(v=0.0000, grad=0.0103), Var(v=0.0000, grad=0.0571), Var(v=0.0000, grad=0.0000), Var(v=0.0000, grad=0.0166), Var(v=0.0000, grad=0.0163), Var(v=0.0000, grad=-0.0089), Var(v=0.0000, grad=-0.0305), Var(v=0.0000, grad=0.0000), Var(v=0.0000, grad=0.0000), Var(v=0.0000, grad=0.0199), Var(v=0.0000, grad=-0.0513), Var(v=0.0000, grad=0.0000), Var(v=0.0000, grad=0.0134), Var(v=0.0000, grad=0.0318), Var(v=0.0000, grad=-0.0405), Var(v=0.0000, grad=-0.0394), Var(v=0.0000, grad=0.0000), Var(v=0.0000, grad=0.0178), Var(v=0.0000, grad=0.0000), Var(v=0.0000, grad=-0.0421), Var(v=0.0000, grad=0.0000), Var(v=0.0000, grad=-0.1083), Var(v=0.0000, grad=0.0185), Var(v=0.0000, grad=0.0299), Var(v=0.0000, grad=-0.0024), Var(v=0.0000, grad=0.0000), Var(v=0.0000, grad=0.0753), Var(v=0.0000, grad=-0.0318), Var(v=0.0000, grad=0.0064), Var(v=0.0000, grad=-0.0175), Var(v=0.0000, grad=0.0018), Var(v=0.0000, grad=0.0000), Var(v=0.0000, grad=0.0599), Var(v=0.0000, grad=0.0216), Var(v=0.0000, grad=0.0133), Var(v=0.0000, grad=0.0033)]\n",
      "Layer 2 \n",
      " Weights: [[Var(v=0.0577, grad=-0.0208)], [Var(v=0.0034, grad=0.0029)], [Var(v=0.0237, grad=0.0000)], [Var(v=-0.1726, grad=0.0000)], [Var(v=-0.0225, grad=-0.0128)], [Var(v=0.1332, grad=0.0000)], [Var(v=-0.1992, grad=0.0000)], [Var(v=0.0084, grad=-0.0077)], [Var(v=-0.0926, grad=-0.0526)], [Var(v=0.1843, grad=0.0000)], [Var(v=-0.0579, grad=-0.0043)], [Var(v=-0.0695, grad=0.0064)], [Var(v=0.0436, grad=-0.0361)], [Var(v=-0.1022, grad=-0.0268)], [Var(v=-0.0238, grad=-0.0058)], [Var(v=0.2091, grad=0.0037)], [Var(v=-0.0262, grad=0.0000)], [Var(v=-0.0235, grad=-0.0046)], [Var(v=0.0598, grad=0.0047)], [Var(v=-0.0326, grad=0.0017)], [Var(v=0.0432, grad=-0.0101)], [Var(v=0.0856, grad=0.0000)], [Var(v=-0.0964, grad=0.0000)], [Var(v=-0.0282, grad=-0.0075)], [Var(v=-0.1879, grad=0.0052)], [Var(v=0.2406, grad=0.0000)], [Var(v=0.0492, grad=0.0085)], [Var(v=0.1163, grad=0.0056)], [Var(v=0.0575, grad=-0.0141)], [Var(v=0.0912, grad=-0.0179)], [Var(v=0.1973, grad=0.0000)], [Var(v=0.0653, grad=0.0001)], [Var(v=0.1274, grad=0.0000)], [Var(v=0.0976, grad=-0.0147)], [Var(v=0.0178, grad=0.0000)], [Var(v=0.2508, grad=-0.0218)], [Var(v=-0.0429, grad=-0.0167)], [Var(v=-0.0693, grad=-0.0311)], [Var(v=-0.0087, grad=0.0073)], [Var(v=0.0222, grad=0.0000)], [Var(v=-0.1068, grad=-0.0299)], [Var(v=0.0451, grad=-0.0026)], [Var(v=0.0233, grad=0.0135)], [Var(v=-0.0640, grad=0.0116)], [Var(v=0.0068, grad=0.0006)], [Var(v=0.0575, grad=0.0000)], [Var(v=-0.1388, grad=-0.0122)], [Var(v=-0.0500, grad=-0.0276)], [Var(v=-0.0188, grad=-0.0158)], [Var(v=0.0121, grad=0.0018)]] Biases: [Var(v=0.0000, grad=-0.4319)]\n",
      "\n",
      "Network after update:\n",
      "Layer 0 \n",
      " Weights: [[Var(v=0.1563, grad=-0.0036), Var(v=-0.0393, grad=0.0013), Var(v=0.0114, grad=0.0197), Var(v=0.0314, grad=-0.0303), Var(v=-0.0791, grad=-0.0502), Var(v=0.0756, grad=0.0107), Var(v=-0.0513, grad=-0.0335), Var(v=-0.0445, grad=0.0444), Var(v=-0.0430, grad=-0.0245), Var(v=-0.0359, grad=0.0099), Var(v=-0.1191, grad=-0.0169), Var(v=-0.1546, grad=0.0111), Var(v=0.0033, grad=-0.0036), Var(v=0.0245, grad=-0.0219), Var(v=-0.1154, grad=-0.0156)]] Biases: [Var(v=0.0000, grad=-0.0026), Var(v=0.0000, grad=-0.0011), Var(v=-0.0001, grad=0.0143), Var(v=0.0002, grad=-0.0220), Var(v=-0.0004, grad=0.0401), Var(v=-0.0001, grad=0.0077), Var(v=-0.0003, grad=0.0268), Var(v=0.0004, grad=-0.0355), Var(v=-0.0002, grad=0.0196), Var(v=0.0001, grad=-0.0079), Var(v=-0.0001, grad=0.0135), Var(v=0.0001, grad=-0.0089), Var(v=0.0000, grad=-0.0026), Var(v=0.0002, grad=-0.0159), Var(v=-0.0001, grad=0.0125)]\n",
      "Layer 1 \n",
      " Weights: [[Var(v=0.1264, grad=0.0034), Var(v=0.0513, grad=0.0002), Var(v=-0.1281, grad=0.0000), Var(v=-0.0711, grad=0.0000), Var(v=-0.0538, grad=0.0000), Var(v=-0.1649, grad=0.0000), Var(v=-0.2325, grad=0.0000), Var(v=-0.0430, grad=0.0000), Var(v=-0.2263, grad=0.0000), Var(v=-0.0722, grad=0.0000), Var(v=0.1986, grad=-0.0034), Var(v=0.0566, grad=-0.0041), Var(v=-0.1028, grad=0.0000), Var(v=0.0470, grad=0.0000), Var(v=0.0256, grad=-0.0014), Var(v=-0.0201, grad=0.0123), Var(v=0.0399, grad=0.0000), Var(v=-0.0269, grad=0.0000), Var(v=0.0961, grad=0.0035), Var(v=0.0448, grad=-0.0019), Var(v=-0.2166, grad=0.0000), Var(v=-0.0284, grad=0.0000), Var(v=-0.0818, grad=0.0000), Var(v=-0.0966, grad=0.0000), Var(v=0.0038, grad=-0.0111), Var(v=0.0013, grad=0.0000), Var(v=0.1336, grad=0.0029), Var(v=0.1176, grad=0.0068), Var(v=-0.1018, grad=0.0000), Var(v=0.0824, grad=0.0054), Var(v=-0.0415, grad=0.0000), Var(v=0.1048, grad=0.0038), Var(v=0.0486, grad=0.0000), Var(v=-0.0056, grad=0.0057), Var(v=-0.0557, grad=0.0000), Var(v=-0.0141, grad=0.0148), Var(v=-0.0570, grad=-0.0025), Var(v=0.1028, grad=-0.0041), Var(v=0.1252, grad=-0.0005), Var(v=-0.1127, grad=0.0000), Var(v=-0.0495, grad=0.0000), Var(v=-0.0597, grad=0.0000), Var(v=0.1925, grad=0.0014), Var(v=0.1229, grad=-0.0038), Var(v=0.0210, grad=0.0004), Var(v=-0.0196, grad=0.0000), Var(v=0.1646, grad=-0.0082), Var(v=-0.0140, grad=-0.0029), Var(v=-0.1015, grad=0.0000), Var(v=0.0079, grad=0.0007)], [Var(v=0.0705, grad=-0.0020), Var(v=0.0953, grad=0.0000), Var(v=0.0049, grad=0.0000), Var(v=-0.2104, grad=0.0000), Var(v=-0.0671, grad=0.0008), Var(v=0.1693, grad=0.0000), Var(v=-0.0182, grad=0.0000), Var(v=0.0254, grad=-0.0003), Var(v=0.1221, grad=0.0032), Var(v=-0.0316, grad=0.0000), Var(v=0.1319, grad=0.0020), Var(v=-0.1421, grad=0.0000), Var(v=-0.0293, grad=-0.0015), Var(v=0.0724, grad=0.0035), Var(v=-0.0209, grad=0.0008), Var(v=-0.0580, grad=0.0000), Var(v=0.1509, grad=0.0000), Var(v=0.1843, grad=0.0008), Var(v=0.0418, grad=0.0000), Var(v=-0.0829, grad=0.0000), Var(v=-0.1316, grad=-0.0015), Var(v=-0.0678, grad=0.0000), Var(v=0.1390, grad=0.0000), Var(v=0.1778, grad=0.0010), Var(v=-0.1545, grad=0.0000), Var(v=0.0175, grad=0.0000), Var(v=-0.0396, grad=0.0000), Var(v=0.0536, grad=0.0000), Var(v=-0.0326, grad=-0.0020), Var(v=0.2202, grad=-0.0032), Var(v=0.1201, grad=0.0000), Var(v=-0.0188, grad=0.0000), Var(v=-0.0946, grad=0.0000), Var(v=-0.0327, grad=-0.0034), Var(v=0.1038, grad=0.0000), Var(v=0.0653, grad=-0.0087), Var(v=-0.0255, grad=0.0015), Var(v=0.0239, grad=0.0024), Var(v=-0.0211, grad=0.0000), Var(v=0.1409, grad=0.0000), Var(v=-0.0823, grad=0.0037), Var(v=0.0536, grad=-0.0016), Var(v=0.1738, grad=0.0000), Var(v=-0.2205, grad=0.0000), Var(v=-0.0710, grad=0.0000), Var(v=0.1389, grad=0.0000), Var(v=-0.0478, grad=0.0048), Var(v=0.2080, grad=0.0017), Var(v=0.0175, grad=0.0007), Var(v=-0.2083, grad=0.0000)], [Var(v=-0.1035, grad=0.0003), Var(v=0.1177, grad=0.0000), Var(v=0.1029, grad=0.0000), Var(v=-0.0237, grad=0.0000), Var(v=-0.0682, grad=0.0000), Var(v=0.0112, grad=0.0000), Var(v=-0.0993, grad=0.0000), Var(v=0.1879, grad=0.0000), Var(v=0.1209, grad=0.0000), Var(v=0.1144, grad=0.0000), Var(v=-0.1973, grad=-0.0003), Var(v=0.1001, grad=-0.0003), Var(v=-0.0172, grad=0.0000), Var(v=-0.2421, grad=0.0000), Var(v=-0.0673, grad=-0.0001), Var(v=0.0882, grad=0.0009), Var(v=-0.0429, grad=0.0000), Var(v=-0.1805, grad=0.0000), Var(v=0.0310, grad=0.0003), Var(v=-0.0192, grad=-0.0001), Var(v=0.0597, grad=0.0000), Var(v=0.1806, grad=0.0000), Var(v=-0.0948, grad=0.0000), Var(v=-0.1534, grad=0.0000), Var(v=-0.1582, grad=-0.0008), Var(v=0.0588, grad=0.0000), Var(v=0.0946, grad=0.0002), Var(v=0.0503, grad=0.0005), Var(v=0.0010, grad=0.0000), Var(v=-0.0266, grad=0.0004), Var(v=-0.1097, grad=0.0000), Var(v=-0.0229, grad=0.0003), Var(v=-0.0648, grad=0.0000), Var(v=-0.0570, grad=0.0004), Var(v=0.0138, grad=0.0000), Var(v=-0.0964, grad=0.0011), Var(v=0.0182, grad=-0.0002), Var(v=-0.1783, grad=-0.0003), Var(v=-0.0032, grad=-0.0000), Var(v=0.0960, grad=0.0000), Var(v=-0.0151, grad=0.0000), Var(v=0.0179, grad=0.0000), Var(v=0.0965, grad=0.0001), Var(v=0.0604, grad=-0.0003), Var(v=0.0822, grad=0.0000), Var(v=0.0593, grad=0.0000), Var(v=-0.0752, grad=-0.0006), Var(v=-0.0580, grad=-0.0002), Var(v=-0.0443, grad=0.0000), Var(v=0.0344, grad=0.0001)], [Var(v=0.0342, grad=0.0007), Var(v=-0.0835, grad=0.0000), Var(v=-0.0916, grad=0.0000), Var(v=0.0645, grad=0.0000), Var(v=0.0958, grad=0.0000), Var(v=0.1621, grad=0.0000), Var(v=-0.0347, grad=0.0000), Var(v=-0.0874, grad=0.0000), Var(v=0.0897, grad=0.0000), Var(v=0.0768, grad=0.0000), Var(v=0.0172, grad=-0.0007), Var(v=0.0632, grad=-0.0008), Var(v=-0.0702, grad=0.0000), Var(v=-0.0715, grad=0.0000), Var(v=0.1477, grad=-0.0003), Var(v=-0.1029, grad=0.0024), Var(v=0.0199, grad=0.0000), Var(v=0.0419, grad=0.0000), Var(v=-0.1941, grad=0.0007), Var(v=0.1369, grad=-0.0004), Var(v=0.0152, grad=0.0000), Var(v=-0.0020, grad=0.0000), Var(v=0.0173, grad=0.0000), Var(v=-0.0818, grad=0.0000), Var(v=-0.1059, grad=-0.0022), Var(v=-0.0324, grad=0.0000), Var(v=-0.0566, grad=0.0006), Var(v=-0.0120, grad=0.0014), Var(v=0.1040, grad=0.0000), Var(v=-0.1115, grad=0.0011), Var(v=0.0821, grad=0.0000), Var(v=0.0227, grad=0.0008), Var(v=-0.1158, grad=0.0000), Var(v=0.1250, grad=0.0011), Var(v=-0.0925, grad=0.0000), Var(v=-0.1145, grad=0.0029), Var(v=0.0789, grad=-0.0005), Var(v=0.0259, grad=-0.0008), Var(v=-0.0966, grad=-0.0001), Var(v=0.0670, grad=0.0000), Var(v=-0.0246, grad=0.0000), Var(v=0.2139, grad=0.0000), Var(v=-0.0011, grad=0.0003), Var(v=0.2025, grad=-0.0007), Var(v=-0.0506, grad=0.0001), Var(v=-0.0183, grad=0.0000), Var(v=0.0421, grad=-0.0016), Var(v=0.0582, grad=-0.0006), Var(v=0.0628, grad=0.0000), Var(v=0.0241, grad=0.0001)], [Var(v=0.1154, grad=-0.0040), Var(v=-0.0491, grad=0.0000), Var(v=-0.0958, grad=0.0000), Var(v=-0.0051, grad=0.0000), Var(v=0.0265, grad=0.0016), Var(v=-0.1469, grad=0.0000), Var(v=-0.2072, grad=0.0000), Var(v=-0.0125, grad=-0.0006), Var(v=0.0500, grad=0.0065), Var(v=0.1543, grad=0.0000), Var(v=-0.0890, grad=0.0041), Var(v=-0.2242, grad=0.0000), Var(v=0.1408, grad=-0.0031), Var(v=0.1561, grad=0.0072), Var(v=0.1908, grad=0.0017), Var(v=-0.0651, grad=0.0000), Var(v=0.0019, grad=0.0000), Var(v=-0.0447, grad=0.0016), Var(v=-0.2143, grad=0.0000), Var(v=0.1261, grad=0.0000), Var(v=-0.0030, grad=-0.0030), Var(v=-0.1067, grad=0.0000), Var(v=-0.1349, grad=0.0000), Var(v=0.0531, grad=0.0020), Var(v=0.0019, grad=0.0000), Var(v=0.0510, grad=0.0000), Var(v=-0.0683, grad=0.0000), Var(v=-0.0379, grad=0.0000), Var(v=0.1287, grad=-0.0040), Var(v=-0.0451, grad=-0.0064), Var(v=0.0309, grad=0.0000), Var(v=0.1659, grad=0.0000), Var(v=-0.2554, grad=0.0000), Var(v=-0.0136, grad=-0.0068), Var(v=0.0984, grad=0.0000), Var(v=-0.0104, grad=-0.0176), Var(v=0.1010, grad=0.0030), Var(v=0.0947, grad=0.0049), Var(v=-0.0911, grad=0.0000), Var(v=0.0154, grad=0.0000), Var(v=0.0775, grad=0.0075), Var(v=-0.0665, grad=-0.0032), Var(v=-0.0602, grad=0.0000), Var(v=-0.0880, grad=0.0000), Var(v=-0.2257, grad=0.0000), Var(v=-0.2109, grad=0.0000), Var(v=0.1294, grad=0.0097), Var(v=0.0750, grad=0.0035), Var(v=0.2045, grad=0.0013), Var(v=-0.1900, grad=0.0000)], [Var(v=0.0913, grad=0.0016), Var(v=0.0111, grad=0.0001), Var(v=-0.1121, grad=0.0000), Var(v=0.0980, grad=0.0000), Var(v=0.0485, grad=0.0000), Var(v=0.1163, grad=0.0000), Var(v=-0.0719, grad=0.0000), Var(v=-0.0601, grad=0.0000), Var(v=-0.2573, grad=0.0000), Var(v=-0.1029, grad=0.0000), Var(v=0.0512, grad=-0.0017), Var(v=0.0857, grad=-0.0020), Var(v=-0.1452, grad=0.0000), Var(v=-0.0909, grad=0.0000), Var(v=0.0380, grad=-0.0007), Var(v=0.2044, grad=0.0060), Var(v=-0.1227, grad=0.0000), Var(v=-0.1408, grad=0.0000), Var(v=0.0400, grad=0.0017), Var(v=-0.1098, grad=-0.0009), Var(v=0.0263, grad=0.0000), Var(v=0.0293, grad=0.0000), Var(v=0.0178, grad=0.0000), Var(v=-0.0312, grad=0.0000), Var(v=0.1770, grad=-0.0054), Var(v=-0.1209, grad=0.0000), Var(v=0.0394, grad=0.0014), Var(v=-0.0752, grad=0.0033), Var(v=0.0445, grad=0.0000), Var(v=-0.0775, grad=0.0026), Var(v=-0.0162, grad=0.0000), Var(v=-0.2101, grad=0.0019), Var(v=-0.1366, grad=0.0000), Var(v=0.0903, grad=0.0028), Var(v=-0.0395, grad=0.0000), Var(v=0.1354, grad=0.0072), Var(v=0.0658, grad=-0.0012), Var(v=-0.1822, grad=-0.0020), Var(v=0.0449, grad=-0.0002), Var(v=-0.1173, grad=0.0000), Var(v=0.0623, grad=0.0000), Var(v=-0.1373, grad=0.0000), Var(v=0.0709, grad=0.0007), Var(v=0.0242, grad=-0.0018), Var(v=-0.0711, grad=0.0002), Var(v=-0.0101, grad=0.0000), Var(v=-0.0172, grad=-0.0040), Var(v=0.1971, grad=-0.0014), Var(v=-0.0007, grad=0.0000), Var(v=0.0496, grad=0.0003)], [Var(v=-0.0002, grad=-0.0026), Var(v=0.0469, grad=0.0000), Var(v=-0.1250, grad=0.0000), Var(v=0.0146, grad=0.0000), Var(v=0.0849, grad=0.0010), Var(v=-0.0398, grad=0.0000), Var(v=-0.0250, grad=0.0000), Var(v=0.0355, grad=-0.0004), Var(v=0.1269, grad=0.0042), Var(v=0.1294, grad=0.0000), Var(v=0.2031, grad=0.0026), Var(v=-0.2222, grad=0.0000), Var(v=0.0699, grad=-0.0020), Var(v=-0.0158, grad=0.0047), Var(v=-0.1334, grad=0.0011), Var(v=-0.1753, grad=0.0000), Var(v=-0.1051, grad=0.0000), Var(v=-0.2310, grad=0.0011), Var(v=0.0053, grad=0.0000), Var(v=-0.1475, grad=0.0000), Var(v=-0.0670, grad=-0.0020), Var(v=-0.0782, grad=0.0000), Var(v=0.0324, grad=0.0000), Var(v=-0.0550, grad=0.0013), Var(v=0.1339, grad=0.0000), Var(v=0.1857, grad=0.0000), Var(v=-0.0151, grad=0.0000), Var(v=0.0381, grad=0.0000), Var(v=0.0533, grad=-0.0026), Var(v=-0.0248, grad=-0.0042), Var(v=-0.1506, grad=0.0000), Var(v=-0.1120, grad=0.0000), Var(v=-0.1859, grad=0.0000), Var(v=0.0217, grad=-0.0044), Var(v=-0.0699, grad=0.0000), Var(v=-0.0394, grad=-0.0114), Var(v=0.2681, grad=0.0020), Var(v=0.1750, grad=0.0032), Var(v=-0.0433, grad=0.0000), Var(v=0.0447, grad=0.0000), Var(v=0.0793, grad=0.0049), Var(v=-0.0379, grad=-0.0021), Var(v=0.1132, grad=0.0000), Var(v=0.0643, grad=0.0000), Var(v=0.1231, grad=0.0000), Var(v=0.0355, grad=0.0000), Var(v=-0.0602, grad=0.0063), Var(v=-0.1200, grad=0.0023), Var(v=-0.0888, grad=0.0009), Var(v=-0.0066, grad=0.0000)], [Var(v=-0.0308, grad=-0.0022), Var(v=-0.0636, grad=0.0000), Var(v=0.1266, grad=0.0000), Var(v=0.0850, grad=0.0000), Var(v=0.0447, grad=0.0009), Var(v=0.0857, grad=0.0000), Var(v=0.1524, grad=0.0000), Var(v=-0.0174, grad=-0.0003), Var(v=-0.0010, grad=0.0036), Var(v=-0.0112, grad=0.0000), Var(v=0.0916, grad=0.0022), Var(v=0.0033, grad=0.0000), Var(v=-0.0156, grad=-0.0017), Var(v=0.1601, grad=0.0040), Var(v=-0.1015, grad=0.0009), Var(v=-0.1745, grad=0.0000), Var(v=0.1316, grad=0.0000), Var(v=-0.0606, grad=0.0009), Var(v=0.0566, grad=0.0000), Var(v=-0.1751, grad=0.0000), Var(v=0.0387, grad=-0.0017), Var(v=-0.2636, grad=0.0000), Var(v=0.0053, grad=0.0000), Var(v=0.0236, grad=0.0011), Var(v=-0.1318, grad=0.0000), Var(v=0.0650, grad=0.0000), Var(v=-0.0527, grad=0.0000), Var(v=-0.0525, grad=0.0000), Var(v=0.2586, grad=-0.0022), Var(v=0.0912, grad=-0.0035), Var(v=0.0096, grad=0.0000), Var(v=0.0706, grad=0.0000), Var(v=-0.1359, grad=0.0000), Var(v=-0.1227, grad=-0.0038), Var(v=-0.0782, grad=0.0000), Var(v=0.1457, grad=-0.0097), Var(v=-0.0845, grad=0.0017), Var(v=0.0418, grad=0.0027), Var(v=-0.0944, grad=0.0000), Var(v=-0.1872, grad=0.0000), Var(v=-0.1679, grad=0.0041), Var(v=-0.1147, grad=-0.0018), Var(v=-0.0062, grad=0.0000), Var(v=-0.1339, grad=0.0000), Var(v=0.2318, grad=0.0000), Var(v=0.0776, grad=0.0000), Var(v=-0.0784, grad=0.0054), Var(v=0.0633, grad=0.0019), Var(v=-0.0986, grad=0.0007), Var(v=-0.1385, grad=0.0000)], [Var(v=0.0486, grad=-0.0022), Var(v=0.1646, grad=0.0000), Var(v=0.2899, grad=0.0000), Var(v=-0.1445, grad=0.0000), Var(v=0.1054, grad=0.0009), Var(v=0.0130, grad=0.0000), Var(v=-0.0860, grad=0.0000), Var(v=0.1654, grad=-0.0003), Var(v=0.0125, grad=0.0035), Var(v=-0.0436, grad=0.0000), Var(v=-0.1743, grad=0.0022), Var(v=0.0697, grad=0.0000), Var(v=0.0770, grad=-0.0017), Var(v=-0.0270, grad=0.0039), Var(v=-0.2760, grad=0.0009), Var(v=-0.1152, grad=0.0000), Var(v=0.0440, grad=0.0000), Var(v=-0.0386, grad=0.0009), Var(v=0.0047, grad=0.0000), Var(v=0.0239, grad=0.0000), Var(v=-0.0143, grad=-0.0016), Var(v=0.0140, grad=0.0000), Var(v=0.0470, grad=0.0000), Var(v=-0.0422, grad=0.0011), Var(v=0.0663, grad=0.0000), Var(v=-0.1458, grad=0.0000), Var(v=-0.1234, grad=0.0000), Var(v=0.0611, grad=0.0000), Var(v=0.1043, grad=-0.0022), Var(v=0.0742, grad=-0.0035), Var(v=-0.0037, grad=0.0000), Var(v=-0.0544, grad=0.0000), Var(v=-0.0338, grad=0.0000), Var(v=-0.1545, grad=-0.0037), Var(v=-0.2722, grad=0.0000), Var(v=-0.0509, grad=-0.0096), Var(v=0.0261, grad=0.0016), Var(v=0.1683, grad=0.0026), Var(v=0.0509, grad=0.0000), Var(v=0.1475, grad=0.0000), Var(v=-0.0055, grad=0.0041), Var(v=0.0085, grad=-0.0017), Var(v=0.0725, grad=0.0000), Var(v=-0.0727, grad=0.0000), Var(v=0.0653, grad=0.0000), Var(v=-0.0733, grad=0.0000), Var(v=0.1967, grad=0.0053), Var(v=-0.0428, grad=0.0019), Var(v=0.0318, grad=0.0007), Var(v=0.0753, grad=0.0000)], [Var(v=-0.0610, grad=-0.0018), Var(v=-0.0215, grad=0.0000), Var(v=-0.1773, grad=0.0000), Var(v=0.0195, grad=0.0000), Var(v=-0.0034, grad=0.0007), Var(v=-0.1790, grad=0.0000), Var(v=-0.0223, grad=0.0000), Var(v=0.0488, grad=-0.0003), Var(v=-0.0353, grad=0.0029), Var(v=0.0315, grad=0.0000), Var(v=-0.0638, grad=0.0018), Var(v=0.0841, grad=0.0000), Var(v=-0.0491, grad=-0.0014), Var(v=0.1171, grad=0.0032), Var(v=-0.0737, grad=0.0008), Var(v=0.1000, grad=0.0000), Var(v=-0.0324, grad=0.0000), Var(v=0.1610, grad=0.0007), Var(v=-0.0165, grad=0.0000), Var(v=0.1881, grad=0.0000), Var(v=0.0414, grad=-0.0014), Var(v=-0.0863, grad=0.0000), Var(v=0.0260, grad=0.0000), Var(v=0.1805, grad=0.0009), Var(v=-0.0289, grad=0.0000), Var(v=-0.1433, grad=0.0000), Var(v=-0.0605, grad=0.0000), Var(v=0.0213, grad=0.0000), Var(v=-0.0771, grad=-0.0018), Var(v=0.0806, grad=-0.0029), Var(v=0.0722, grad=0.0000), Var(v=0.1783, grad=0.0000), Var(v=0.0498, grad=0.0000), Var(v=-0.1412, grad=-0.0031), Var(v=0.0324, grad=0.0000), Var(v=0.0213, grad=-0.0079), Var(v=-0.2406, grad=0.0014), Var(v=0.0004, grad=0.0022), Var(v=0.0431, grad=0.0000), Var(v=-0.0332, grad=0.0000), Var(v=0.0065, grad=0.0034), Var(v=-0.0157, grad=-0.0014), Var(v=-0.0660, grad=0.0000), Var(v=0.0337, grad=0.0000), Var(v=0.1045, grad=0.0000), Var(v=0.0347, grad=0.0000), Var(v=-0.1967, grad=0.0044), Var(v=0.1007, grad=0.0016), Var(v=-0.0597, grad=0.0006), Var(v=-0.0341, grad=0.0000)], [Var(v=-0.0678, grad=-0.0061), Var(v=-0.1125, grad=0.0000), Var(v=0.0714, grad=0.0000), Var(v=0.1331, grad=0.0000), Var(v=-0.0177, grad=0.0024), Var(v=-0.0400, grad=0.0000), Var(v=-0.0732, grad=0.0000), Var(v=0.0864, grad=-0.0009), Var(v=-0.0411, grad=0.0097), Var(v=-0.0490, grad=0.0000), Var(v=0.0098, grad=0.0061), Var(v=-0.0439, grad=0.0000), Var(v=0.0909, grad=-0.0046), Var(v=0.0384, grad=0.0107), Var(v=0.0010, grad=0.0025), Var(v=0.0698, grad=0.0000), Var(v=0.0047, grad=0.0000), Var(v=0.1062, grad=0.0025), Var(v=-0.0003, grad=0.0000), Var(v=0.1700, grad=0.0000), Var(v=0.0467, grad=-0.0045), Var(v=0.0680, grad=0.0000), Var(v=0.0331, grad=0.0000), Var(v=0.1346, grad=0.0030), Var(v=-0.0885, grad=0.0000), Var(v=-0.0422, grad=0.0000), Var(v=0.0733, grad=0.0000), Var(v=-0.0115, grad=0.0000), Var(v=-0.0828, grad=-0.0060), Var(v=-0.0273, grad=-0.0096), Var(v=-0.0572, grad=0.0000), Var(v=0.0001, grad=0.0000), Var(v=-0.1290, grad=0.0000), Var(v=0.1922, grad=-0.0103), Var(v=-0.0938, grad=0.0000), Var(v=0.0319, grad=-0.0264), Var(v=-0.0345, grad=0.0045), Var(v=0.2082, grad=0.0073), Var(v=0.0690, grad=0.0000), Var(v=-0.0156, grad=0.0000), Var(v=0.0613, grad=0.0112), Var(v=0.0645, grad=-0.0047), Var(v=-0.1459, grad=0.0000), Var(v=-0.0312, grad=0.0000), Var(v=-0.0478, grad=0.0000), Var(v=-0.2214, grad=0.0000), Var(v=0.0796, grad=0.0146), Var(v=0.1338, grad=0.0053), Var(v=0.0193, grad=0.0020), Var(v=-0.1588, grad=0.0000)], [Var(v=0.1232, grad=-0.0079), Var(v=-0.0788, grad=0.0000), Var(v=-0.0187, grad=0.0000), Var(v=-0.0975, grad=0.0000), Var(v=-0.0368, grad=0.0031), Var(v=-0.0437, grad=0.0000), Var(v=-0.1164, grad=0.0000), Var(v=-0.0555, grad=-0.0011), Var(v=0.1359, grad=0.0126), Var(v=-0.0450, grad=0.0000), Var(v=0.1445, grad=0.0079), Var(v=0.0641, grad=0.0000), Var(v=0.1045, grad=-0.0059), Var(v=-0.1046, grad=0.0139), Var(v=0.1049, grad=0.0032), Var(v=0.0459, grad=0.0000), Var(v=-0.1303, grad=0.0000), Var(v=-0.0416, grad=0.0032), Var(v=-0.1440, grad=0.0000), Var(v=-0.0184, grad=0.0000), Var(v=-0.0359, grad=-0.0059), Var(v=-0.1437, grad=0.0000), Var(v=-0.1423, grad=0.0000), Var(v=-0.0737, grad=0.0038), Var(v=-0.0813, grad=0.0000), Var(v=-0.1539, grad=0.0000), Var(v=0.0313, grad=0.0000), Var(v=-0.1782, grad=0.0000), Var(v=-0.0574, grad=-0.0078), Var(v=0.0411, grad=-0.0124), Var(v=-0.1153, grad=0.0000), Var(v=-0.0868, grad=0.0000), Var(v=0.0555, grad=0.0000), Var(v=0.0986, grad=-0.0133), Var(v=-0.0146, grad=0.0000), Var(v=0.0826, grad=-0.0341), Var(v=0.0488, grad=0.0058), Var(v=-0.0462, grad=0.0094), Var(v=0.0314, grad=0.0000), Var(v=-0.0375, grad=0.0000), Var(v=0.1388, grad=0.0145), Var(v=0.0803, grad=-0.0061), Var(v=-0.0142, grad=0.0000), Var(v=0.1397, grad=0.0000), Var(v=-0.1630, grad=0.0000), Var(v=-0.0663, grad=0.0000), Var(v=0.0432, grad=0.0189), Var(v=0.0173, grad=0.0068), Var(v=0.0969, grad=0.0026), Var(v=0.0567, grad=0.0000)], [Var(v=-0.2652, grad=0.0001), Var(v=0.1016, grad=0.0000), Var(v=0.1491, grad=0.0000), Var(v=-0.0225, grad=0.0000), Var(v=0.0199, grad=0.0000), Var(v=0.1610, grad=0.0000), Var(v=-0.0927, grad=0.0000), Var(v=-0.0800, grad=0.0000), Var(v=0.1473, grad=0.0000), Var(v=-0.0703, grad=0.0000), Var(v=0.0165, grad=-0.0001), Var(v=0.1703, grad=-0.0001), Var(v=0.0588, grad=0.0000), Var(v=-0.0575, grad=0.0000), Var(v=-0.1368, grad=-0.0000), Var(v=0.1303, grad=0.0003), Var(v=0.0372, grad=0.0000), Var(v=0.0365, grad=0.0000), Var(v=-0.3504, grad=0.0001), Var(v=-0.0538, grad=-0.0000), Var(v=0.0337, grad=0.0000), Var(v=-0.0519, grad=0.0000), Var(v=0.0153, grad=0.0000), Var(v=-0.0082, grad=0.0000), Var(v=0.2491, grad=-0.0002), Var(v=0.0715, grad=0.0000), Var(v=0.0177, grad=0.0001), Var(v=0.1245, grad=0.0001), Var(v=-0.1827, grad=0.0000), Var(v=0.0967, grad=0.0001), Var(v=-0.0210, grad=0.0000), Var(v=0.0130, grad=0.0001), Var(v=-0.1909, grad=0.0000), Var(v=-0.0526, grad=0.0001), Var(v=-0.1504, grad=0.0000), Var(v=0.0351, grad=0.0003), Var(v=0.0642, grad=-0.0001), Var(v=-0.1019, grad=-0.0001), Var(v=0.1700, grad=-0.0000), Var(v=-0.1443, grad=0.0000), Var(v=0.0232, grad=0.0000), Var(v=0.1325, grad=0.0000), Var(v=-0.0401, grad=0.0000), Var(v=0.0062, grad=-0.0001), Var(v=0.1949, grad=0.0000), Var(v=0.0245, grad=0.0000), Var(v=-0.1086, grad=-0.0002), Var(v=-0.1640, grad=-0.0001), Var(v=0.0804, grad=0.0000), Var(v=-0.0859, grad=0.0000)], [Var(v=-0.1657, grad=0.0005), Var(v=-0.0080, grad=0.0000), Var(v=-0.1945, grad=0.0000), Var(v=-0.0201, grad=0.0000), Var(v=-0.0905, grad=0.0000), Var(v=0.1878, grad=0.0000), Var(v=0.0377, grad=0.0000), Var(v=-0.0096, grad=0.0000), Var(v=-0.0452, grad=0.0000), Var(v=0.0158, grad=0.0000), Var(v=0.0528, grad=-0.0005), Var(v=-0.0848, grad=-0.0006), Var(v=-0.1466, grad=0.0000), Var(v=-0.1002, grad=0.0000), Var(v=0.0169, grad=-0.0002), Var(v=-0.0275, grad=0.0019), Var(v=-0.0446, grad=0.0000), Var(v=0.0567, grad=0.0000), Var(v=0.0505, grad=0.0005), Var(v=0.0783, grad=-0.0003), Var(v=0.0493, grad=0.0000), Var(v=-0.0447, grad=0.0000), Var(v=0.0178, grad=0.0000), Var(v=0.1512, grad=0.0000), Var(v=0.1737, grad=-0.0017), Var(v=-0.0120, grad=0.0000), Var(v=-0.0334, grad=0.0004), Var(v=0.0611, grad=0.0011), Var(v=-0.2155, grad=0.0000), Var(v=0.0890, grad=0.0008), Var(v=-0.1253, grad=0.0000), Var(v=-0.0337, grad=0.0006), Var(v=-0.1493, grad=0.0000), Var(v=-0.0616, grad=0.0009), Var(v=-0.0381, grad=0.0000), Var(v=0.0223, grad=0.0023), Var(v=0.0780, grad=-0.0004), Var(v=-0.0191, grad=-0.0006), Var(v=-0.0471, grad=-0.0001), Var(v=-0.0284, grad=0.0000), Var(v=-0.0520, grad=0.0000), Var(v=0.0246, grad=0.0000), Var(v=-0.0262, grad=0.0002), Var(v=0.1125, grad=-0.0006), Var(v=0.1549, grad=0.0001), Var(v=-0.1260, grad=0.0000), Var(v=0.0124, grad=-0.0013), Var(v=0.2672, grad=-0.0005), Var(v=0.0295, grad=0.0000), Var(v=-0.0430, grad=0.0001)], [Var(v=0.0990, grad=-0.0059), Var(v=0.0072, grad=0.0000), Var(v=-0.1130, grad=0.0000), Var(v=0.0107, grad=0.0000), Var(v=0.1040, grad=0.0023), Var(v=0.1022, grad=0.0000), Var(v=0.0297, grad=0.0000), Var(v=-0.0256, grad=-0.0009), Var(v=0.2507, grad=0.0094), Var(v=-0.1036, grad=0.0000), Var(v=-0.0580, grad=0.0059), Var(v=-0.0971, grad=0.0000), Var(v=-0.0045, grad=-0.0044), Var(v=0.1502, grad=0.0104), Var(v=0.0554, grad=0.0024), Var(v=0.0578, grad=0.0000), Var(v=-0.0267, grad=0.0000), Var(v=0.0499, grad=0.0024), Var(v=-0.1142, grad=0.0000), Var(v=-0.1934, grad=0.0000), Var(v=0.1537, grad=-0.0044), Var(v=-0.2324, grad=0.0000), Var(v=-0.0099, grad=0.0000), Var(v=-0.0885, grad=0.0029), Var(v=0.1913, grad=0.0000), Var(v=0.0526, grad=0.0000), Var(v=-0.0405, grad=0.0000), Var(v=0.0256, grad=0.0000), Var(v=0.0861, grad=-0.0059), Var(v=0.0507, grad=-0.0093), Var(v=0.0370, grad=0.0000), Var(v=-0.0156, grad=0.0000), Var(v=0.1484, grad=0.0000), Var(v=0.0016, grad=-0.0099), Var(v=0.0092, grad=0.0000), Var(v=0.0463, grad=-0.0255), Var(v=0.0536, grad=0.0044), Var(v=-0.0777, grad=0.0071), Var(v=-0.0633, grad=0.0000), Var(v=-0.0896, grad=0.0000), Var(v=0.0479, grad=0.0109), Var(v=-0.0587, grad=-0.0046), Var(v=-0.0559, grad=0.0000), Var(v=-0.0028, grad=0.0000), Var(v=-0.0051, grad=0.0000), Var(v=-0.0463, grad=0.0000), Var(v=0.0425, grad=0.0141), Var(v=0.0748, grad=0.0051), Var(v=-0.0576, grad=0.0019), Var(v=0.0714, grad=0.0000)]] Biases: [Var(v=0.0002, grad=-0.0249), Var(v=-0.0000, grad=0.0009), Var(v=0.0000, grad=0.0000), Var(v=0.0000, grad=0.0000), Var(v=-0.0002, grad=0.0159), Var(v=0.0000, grad=0.0000), Var(v=0.0000, grad=0.0000), Var(v=0.0001, grad=-0.0059), Var(v=-0.0007, grad=0.0653), Var(v=0.0000, grad=0.0000), Var(v=-0.0003, grad=0.0250), Var(v=0.0002, grad=-0.0190), Var(v=0.0003, grad=-0.0307), Var(v=-0.0007, grad=0.0721), Var(v=-0.0001, grad=0.0103), Var(v=-0.0006, grad=0.0571), Var(v=0.0000, grad=0.0000), Var(v=-0.0002, grad=0.0166), Var(v=-0.0002, grad=0.0163), Var(v=0.0001, grad=-0.0089), Var(v=0.0003, grad=-0.0305), Var(v=0.0000, grad=0.0000), Var(v=0.0000, grad=0.0000), Var(v=-0.0002, grad=0.0199), Var(v=0.0005, grad=-0.0513), Var(v=0.0000, grad=0.0000), Var(v=-0.0001, grad=0.0134), Var(v=-0.0003, grad=0.0318), Var(v=0.0004, grad=-0.0405), Var(v=0.0004, grad=-0.0394), Var(v=0.0000, grad=0.0000), Var(v=-0.0002, grad=0.0178), Var(v=0.0000, grad=0.0000), Var(v=0.0004, grad=-0.0421), Var(v=0.0000, grad=0.0000), Var(v=0.0011, grad=-0.1083), Var(v=-0.0002, grad=0.0185), Var(v=-0.0003, grad=0.0299), Var(v=0.0000, grad=-0.0024), Var(v=0.0000, grad=0.0000), Var(v=-0.0008, grad=0.0753), Var(v=0.0003, grad=-0.0318), Var(v=-0.0001, grad=0.0064), Var(v=0.0002, grad=-0.0175), Var(v=-0.0000, grad=0.0018), Var(v=0.0000, grad=0.0000), Var(v=-0.0006, grad=0.0599), Var(v=-0.0002, grad=0.0216), Var(v=-0.0001, grad=0.0133), Var(v=-0.0000, grad=0.0033)]\n",
      "Layer 2 \n",
      " Weights: [[Var(v=0.0579, grad=-0.0208)], [Var(v=0.0034, grad=0.0029)], [Var(v=0.0237, grad=0.0000)], [Var(v=-0.1726, grad=0.0000)], [Var(v=-0.0224, grad=-0.0128)], [Var(v=0.1332, grad=0.0000)], [Var(v=-0.1992, grad=0.0000)], [Var(v=0.0085, grad=-0.0077)], [Var(v=-0.0921, grad=-0.0526)], [Var(v=0.1843, grad=0.0000)], [Var(v=-0.0579, grad=-0.0043)], [Var(v=-0.0695, grad=0.0064)], [Var(v=0.0440, grad=-0.0361)], [Var(v=-0.1020, grad=-0.0268)], [Var(v=-0.0237, grad=-0.0058)], [Var(v=0.2091, grad=0.0037)], [Var(v=-0.0262, grad=0.0000)], [Var(v=-0.0235, grad=-0.0046)], [Var(v=0.0598, grad=0.0047)], [Var(v=-0.0326, grad=0.0017)], [Var(v=0.0433, grad=-0.0101)], [Var(v=0.0856, grad=0.0000)], [Var(v=-0.0964, grad=0.0000)], [Var(v=-0.0282, grad=-0.0075)], [Var(v=-0.1880, grad=0.0052)], [Var(v=0.2406, grad=0.0000)], [Var(v=0.0491, grad=0.0085)], [Var(v=0.1162, grad=0.0056)], [Var(v=0.0576, grad=-0.0141)], [Var(v=0.0914, grad=-0.0179)], [Var(v=0.1973, grad=0.0000)], [Var(v=0.0653, grad=0.0001)], [Var(v=0.1274, grad=0.0000)], [Var(v=0.0977, grad=-0.0147)], [Var(v=0.0178, grad=0.0000)], [Var(v=0.2510, grad=-0.0218)], [Var(v=-0.0427, grad=-0.0167)], [Var(v=-0.0690, grad=-0.0311)], [Var(v=-0.0087, grad=0.0073)], [Var(v=0.0222, grad=0.0000)], [Var(v=-0.1065, grad=-0.0299)], [Var(v=0.0451, grad=-0.0026)], [Var(v=0.0231, grad=0.0135)], [Var(v=-0.0641, grad=0.0116)], [Var(v=0.0068, grad=0.0006)], [Var(v=0.0575, grad=0.0000)], [Var(v=-0.1386, grad=-0.0122)], [Var(v=-0.0497, grad=-0.0276)], [Var(v=-0.0187, grad=-0.0158)], [Var(v=0.0121, grad=0.0018)]] Biases: [Var(v=0.0043, grad=-0.4319)]\n",
      "\n",
      "Network after zeroing gradients:\n",
      "Layer 0 \n",
      " Weights: [[Var(v=0.1563, grad=0.0000), Var(v=-0.0393, grad=0.0000), Var(v=0.0114, grad=0.0000), Var(v=0.0314, grad=0.0000), Var(v=-0.0791, grad=0.0000), Var(v=0.0756, grad=0.0000), Var(v=-0.0513, grad=0.0000), Var(v=-0.0445, grad=0.0000), Var(v=-0.0430, grad=0.0000), Var(v=-0.0359, grad=0.0000), Var(v=-0.1191, grad=0.0000), Var(v=-0.1546, grad=0.0000), Var(v=0.0033, grad=0.0000), Var(v=0.0245, grad=0.0000), Var(v=-0.1154, grad=0.0000)]] Biases: [Var(v=0.0000, grad=0.0000), Var(v=0.0000, grad=0.0000), Var(v=-0.0001, grad=0.0000), Var(v=0.0002, grad=0.0000), Var(v=-0.0004, grad=0.0000), Var(v=-0.0001, grad=0.0000), Var(v=-0.0003, grad=0.0000), Var(v=0.0004, grad=0.0000), Var(v=-0.0002, grad=0.0000), Var(v=0.0001, grad=0.0000), Var(v=-0.0001, grad=0.0000), Var(v=0.0001, grad=0.0000), Var(v=0.0000, grad=0.0000), Var(v=0.0002, grad=0.0000), Var(v=-0.0001, grad=0.0000)]\n",
      "Layer 1 \n",
      " Weights: [[Var(v=0.1264, grad=0.0000), Var(v=0.0513, grad=0.0000), Var(v=-0.1281, grad=0.0000), Var(v=-0.0711, grad=0.0000), Var(v=-0.0538, grad=0.0000), Var(v=-0.1649, grad=0.0000), Var(v=-0.2325, grad=0.0000), Var(v=-0.0430, grad=0.0000), Var(v=-0.2263, grad=0.0000), Var(v=-0.0722, grad=0.0000), Var(v=0.1986, grad=0.0000), Var(v=0.0566, grad=0.0000), Var(v=-0.1028, grad=0.0000), Var(v=0.0470, grad=0.0000), Var(v=0.0256, grad=0.0000), Var(v=-0.0201, grad=0.0000), Var(v=0.0399, grad=0.0000), Var(v=-0.0269, grad=0.0000), Var(v=0.0961, grad=0.0000), Var(v=0.0448, grad=0.0000), Var(v=-0.2166, grad=0.0000), Var(v=-0.0284, grad=0.0000), Var(v=-0.0818, grad=0.0000), Var(v=-0.0966, grad=0.0000), Var(v=0.0038, grad=0.0000), Var(v=0.0013, grad=0.0000), Var(v=0.1336, grad=0.0000), Var(v=0.1176, grad=0.0000), Var(v=-0.1018, grad=0.0000), Var(v=0.0824, grad=0.0000), Var(v=-0.0415, grad=0.0000), Var(v=0.1048, grad=0.0000), Var(v=0.0486, grad=0.0000), Var(v=-0.0056, grad=0.0000), Var(v=-0.0557, grad=0.0000), Var(v=-0.0141, grad=0.0000), Var(v=-0.0570, grad=0.0000), Var(v=0.1028, grad=0.0000), Var(v=0.1252, grad=0.0000), Var(v=-0.1127, grad=0.0000), Var(v=-0.0495, grad=0.0000), Var(v=-0.0597, grad=0.0000), Var(v=0.1925, grad=0.0000), Var(v=0.1229, grad=0.0000), Var(v=0.0210, grad=0.0000), Var(v=-0.0196, grad=0.0000), Var(v=0.1646, grad=0.0000), Var(v=-0.0140, grad=0.0000), Var(v=-0.1015, grad=0.0000), Var(v=0.0079, grad=0.0000)], [Var(v=0.0705, grad=0.0000), Var(v=0.0953, grad=0.0000), Var(v=0.0049, grad=0.0000), Var(v=-0.2104, grad=0.0000), Var(v=-0.0671, grad=0.0000), Var(v=0.1693, grad=0.0000), Var(v=-0.0182, grad=0.0000), Var(v=0.0254, grad=0.0000), Var(v=0.1221, grad=0.0000), Var(v=-0.0316, grad=0.0000), Var(v=0.1319, grad=0.0000), Var(v=-0.1421, grad=0.0000), Var(v=-0.0293, grad=0.0000), Var(v=0.0724, grad=0.0000), Var(v=-0.0209, grad=0.0000), Var(v=-0.0580, grad=0.0000), Var(v=0.1509, grad=0.0000), Var(v=0.1843, grad=0.0000), Var(v=0.0418, grad=0.0000), Var(v=-0.0829, grad=0.0000), Var(v=-0.1316, grad=0.0000), Var(v=-0.0678, grad=0.0000), Var(v=0.1390, grad=0.0000), Var(v=0.1778, grad=0.0000), Var(v=-0.1545, grad=0.0000), Var(v=0.0175, grad=0.0000), Var(v=-0.0396, grad=0.0000), Var(v=0.0536, grad=0.0000), Var(v=-0.0326, grad=0.0000), Var(v=0.2202, grad=0.0000), Var(v=0.1201, grad=0.0000), Var(v=-0.0188, grad=0.0000), Var(v=-0.0946, grad=0.0000), Var(v=-0.0327, grad=0.0000), Var(v=0.1038, grad=0.0000), Var(v=0.0653, grad=0.0000), Var(v=-0.0255, grad=0.0000), Var(v=0.0239, grad=0.0000), Var(v=-0.0211, grad=0.0000), Var(v=0.1409, grad=0.0000), Var(v=-0.0823, grad=0.0000), Var(v=0.0536, grad=0.0000), Var(v=0.1738, grad=0.0000), Var(v=-0.2205, grad=0.0000), Var(v=-0.0710, grad=0.0000), Var(v=0.1389, grad=0.0000), Var(v=-0.0478, grad=0.0000), Var(v=0.2080, grad=0.0000), Var(v=0.0175, grad=0.0000), Var(v=-0.2083, grad=0.0000)], [Var(v=-0.1035, grad=0.0000), Var(v=0.1177, grad=0.0000), Var(v=0.1029, grad=0.0000), Var(v=-0.0237, grad=0.0000), Var(v=-0.0682, grad=0.0000), Var(v=0.0112, grad=0.0000), Var(v=-0.0993, grad=0.0000), Var(v=0.1879, grad=0.0000), Var(v=0.1209, grad=0.0000), Var(v=0.1144, grad=0.0000), Var(v=-0.1973, grad=0.0000), Var(v=0.1001, grad=0.0000), Var(v=-0.0172, grad=0.0000), Var(v=-0.2421, grad=0.0000), Var(v=-0.0673, grad=0.0000), Var(v=0.0882, grad=0.0000), Var(v=-0.0429, grad=0.0000), Var(v=-0.1805, grad=0.0000), Var(v=0.0310, grad=0.0000), Var(v=-0.0192, grad=0.0000), Var(v=0.0597, grad=0.0000), Var(v=0.1806, grad=0.0000), Var(v=-0.0948, grad=0.0000), Var(v=-0.1534, grad=0.0000), Var(v=-0.1582, grad=0.0000), Var(v=0.0588, grad=0.0000), Var(v=0.0946, grad=0.0000), Var(v=0.0503, grad=0.0000), Var(v=0.0010, grad=0.0000), Var(v=-0.0266, grad=0.0000), Var(v=-0.1097, grad=0.0000), Var(v=-0.0229, grad=0.0000), Var(v=-0.0648, grad=0.0000), Var(v=-0.0570, grad=0.0000), Var(v=0.0138, grad=0.0000), Var(v=-0.0964, grad=0.0000), Var(v=0.0182, grad=0.0000), Var(v=-0.1783, grad=0.0000), Var(v=-0.0032, grad=0.0000), Var(v=0.0960, grad=0.0000), Var(v=-0.0151, grad=0.0000), Var(v=0.0179, grad=0.0000), Var(v=0.0965, grad=0.0000), Var(v=0.0604, grad=0.0000), Var(v=0.0822, grad=0.0000), Var(v=0.0593, grad=0.0000), Var(v=-0.0752, grad=0.0000), Var(v=-0.0580, grad=0.0000), Var(v=-0.0443, grad=0.0000), Var(v=0.0344, grad=0.0000)], [Var(v=0.0342, grad=0.0000), Var(v=-0.0835, grad=0.0000), Var(v=-0.0916, grad=0.0000), Var(v=0.0645, grad=0.0000), Var(v=0.0958, grad=0.0000), Var(v=0.1621, grad=0.0000), Var(v=-0.0347, grad=0.0000), Var(v=-0.0874, grad=0.0000), Var(v=0.0897, grad=0.0000), Var(v=0.0768, grad=0.0000), Var(v=0.0172, grad=0.0000), Var(v=0.0632, grad=0.0000), Var(v=-0.0702, grad=0.0000), Var(v=-0.0715, grad=0.0000), Var(v=0.1477, grad=0.0000), Var(v=-0.1029, grad=0.0000), Var(v=0.0199, grad=0.0000), Var(v=0.0419, grad=0.0000), Var(v=-0.1941, grad=0.0000), Var(v=0.1369, grad=0.0000), Var(v=0.0152, grad=0.0000), Var(v=-0.0020, grad=0.0000), Var(v=0.0173, grad=0.0000), Var(v=-0.0818, grad=0.0000), Var(v=-0.1059, grad=0.0000), Var(v=-0.0324, grad=0.0000), Var(v=-0.0566, grad=0.0000), Var(v=-0.0120, grad=0.0000), Var(v=0.1040, grad=0.0000), Var(v=-0.1115, grad=0.0000), Var(v=0.0821, grad=0.0000), Var(v=0.0227, grad=0.0000), Var(v=-0.1158, grad=0.0000), Var(v=0.1250, grad=0.0000), Var(v=-0.0925, grad=0.0000), Var(v=-0.1145, grad=0.0000), Var(v=0.0789, grad=0.0000), Var(v=0.0259, grad=0.0000), Var(v=-0.0966, grad=0.0000), Var(v=0.0670, grad=0.0000), Var(v=-0.0246, grad=0.0000), Var(v=0.2139, grad=0.0000), Var(v=-0.0011, grad=0.0000), Var(v=0.2025, grad=0.0000), Var(v=-0.0506, grad=0.0000), Var(v=-0.0183, grad=0.0000), Var(v=0.0421, grad=0.0000), Var(v=0.0582, grad=0.0000), Var(v=0.0628, grad=0.0000), Var(v=0.0241, grad=0.0000)], [Var(v=0.1154, grad=0.0000), Var(v=-0.0491, grad=0.0000), Var(v=-0.0958, grad=0.0000), Var(v=-0.0051, grad=0.0000), Var(v=0.0265, grad=0.0000), Var(v=-0.1469, grad=0.0000), Var(v=-0.2072, grad=0.0000), Var(v=-0.0125, grad=0.0000), Var(v=0.0500, grad=0.0000), Var(v=0.1543, grad=0.0000), Var(v=-0.0890, grad=0.0000), Var(v=-0.2242, grad=0.0000), Var(v=0.1408, grad=0.0000), Var(v=0.1561, grad=0.0000), Var(v=0.1908, grad=0.0000), Var(v=-0.0651, grad=0.0000), Var(v=0.0019, grad=0.0000), Var(v=-0.0447, grad=0.0000), Var(v=-0.2143, grad=0.0000), Var(v=0.1261, grad=0.0000), Var(v=-0.0030, grad=0.0000), Var(v=-0.1067, grad=0.0000), Var(v=-0.1349, grad=0.0000), Var(v=0.0531, grad=0.0000), Var(v=0.0019, grad=0.0000), Var(v=0.0510, grad=0.0000), Var(v=-0.0683, grad=0.0000), Var(v=-0.0379, grad=0.0000), Var(v=0.1287, grad=0.0000), Var(v=-0.0451, grad=0.0000), Var(v=0.0309, grad=0.0000), Var(v=0.1659, grad=0.0000), Var(v=-0.2554, grad=0.0000), Var(v=-0.0136, grad=0.0000), Var(v=0.0984, grad=0.0000), Var(v=-0.0104, grad=0.0000), Var(v=0.1010, grad=0.0000), Var(v=0.0947, grad=0.0000), Var(v=-0.0911, grad=0.0000), Var(v=0.0154, grad=0.0000), Var(v=0.0775, grad=0.0000), Var(v=-0.0665, grad=0.0000), Var(v=-0.0602, grad=0.0000), Var(v=-0.0880, grad=0.0000), Var(v=-0.2257, grad=0.0000), Var(v=-0.2109, grad=0.0000), Var(v=0.1294, grad=0.0000), Var(v=0.0750, grad=0.0000), Var(v=0.2045, grad=0.0000), Var(v=-0.1900, grad=0.0000)], [Var(v=0.0913, grad=0.0000), Var(v=0.0111, grad=0.0000), Var(v=-0.1121, grad=0.0000), Var(v=0.0980, grad=0.0000), Var(v=0.0485, grad=0.0000), Var(v=0.1163, grad=0.0000), Var(v=-0.0719, grad=0.0000), Var(v=-0.0601, grad=0.0000), Var(v=-0.2573, grad=0.0000), Var(v=-0.1029, grad=0.0000), Var(v=0.0512, grad=0.0000), Var(v=0.0857, grad=0.0000), Var(v=-0.1452, grad=0.0000), Var(v=-0.0909, grad=0.0000), Var(v=0.0380, grad=0.0000), Var(v=0.2044, grad=0.0000), Var(v=-0.1227, grad=0.0000), Var(v=-0.1408, grad=0.0000), Var(v=0.0400, grad=0.0000), Var(v=-0.1098, grad=0.0000), Var(v=0.0263, grad=0.0000), Var(v=0.0293, grad=0.0000), Var(v=0.0178, grad=0.0000), Var(v=-0.0312, grad=0.0000), Var(v=0.1770, grad=0.0000), Var(v=-0.1209, grad=0.0000), Var(v=0.0394, grad=0.0000), Var(v=-0.0752, grad=0.0000), Var(v=0.0445, grad=0.0000), Var(v=-0.0775, grad=0.0000), Var(v=-0.0162, grad=0.0000), Var(v=-0.2101, grad=0.0000), Var(v=-0.1366, grad=0.0000), Var(v=0.0903, grad=0.0000), Var(v=-0.0395, grad=0.0000), Var(v=0.1354, grad=0.0000), Var(v=0.0658, grad=0.0000), Var(v=-0.1822, grad=0.0000), Var(v=0.0449, grad=0.0000), Var(v=-0.1173, grad=0.0000), Var(v=0.0623, grad=0.0000), Var(v=-0.1373, grad=0.0000), Var(v=0.0709, grad=0.0000), Var(v=0.0242, grad=0.0000), Var(v=-0.0711, grad=0.0000), Var(v=-0.0101, grad=0.0000), Var(v=-0.0172, grad=0.0000), Var(v=0.1971, grad=0.0000), Var(v=-0.0007, grad=0.0000), Var(v=0.0496, grad=0.0000)], [Var(v=-0.0002, grad=0.0000), Var(v=0.0469, grad=0.0000), Var(v=-0.1250, grad=0.0000), Var(v=0.0146, grad=0.0000), Var(v=0.0849, grad=0.0000), Var(v=-0.0398, grad=0.0000), Var(v=-0.0250, grad=0.0000), Var(v=0.0355, grad=0.0000), Var(v=0.1269, grad=0.0000), Var(v=0.1294, grad=0.0000), Var(v=0.2031, grad=0.0000), Var(v=-0.2222, grad=0.0000), Var(v=0.0699, grad=0.0000), Var(v=-0.0158, grad=0.0000), Var(v=-0.1334, grad=0.0000), Var(v=-0.1753, grad=0.0000), Var(v=-0.1051, grad=0.0000), Var(v=-0.2310, grad=0.0000), Var(v=0.0053, grad=0.0000), Var(v=-0.1475, grad=0.0000), Var(v=-0.0670, grad=0.0000), Var(v=-0.0782, grad=0.0000), Var(v=0.0324, grad=0.0000), Var(v=-0.0550, grad=0.0000), Var(v=0.1339, grad=0.0000), Var(v=0.1857, grad=0.0000), Var(v=-0.0151, grad=0.0000), Var(v=0.0381, grad=0.0000), Var(v=0.0533, grad=0.0000), Var(v=-0.0248, grad=0.0000), Var(v=-0.1506, grad=0.0000), Var(v=-0.1120, grad=0.0000), Var(v=-0.1859, grad=0.0000), Var(v=0.0217, grad=0.0000), Var(v=-0.0699, grad=0.0000), Var(v=-0.0394, grad=0.0000), Var(v=0.2681, grad=0.0000), Var(v=0.1750, grad=0.0000), Var(v=-0.0433, grad=0.0000), Var(v=0.0447, grad=0.0000), Var(v=0.0793, grad=0.0000), Var(v=-0.0379, grad=0.0000), Var(v=0.1132, grad=0.0000), Var(v=0.0643, grad=0.0000), Var(v=0.1231, grad=0.0000), Var(v=0.0355, grad=0.0000), Var(v=-0.0602, grad=0.0000), Var(v=-0.1200, grad=0.0000), Var(v=-0.0888, grad=0.0000), Var(v=-0.0066, grad=0.0000)], [Var(v=-0.0308, grad=0.0000), Var(v=-0.0636, grad=0.0000), Var(v=0.1266, grad=0.0000), Var(v=0.0850, grad=0.0000), Var(v=0.0447, grad=0.0000), Var(v=0.0857, grad=0.0000), Var(v=0.1524, grad=0.0000), Var(v=-0.0174, grad=0.0000), Var(v=-0.0010, grad=0.0000), Var(v=-0.0112, grad=0.0000), Var(v=0.0916, grad=0.0000), Var(v=0.0033, grad=0.0000), Var(v=-0.0156, grad=0.0000), Var(v=0.1601, grad=0.0000), Var(v=-0.1015, grad=0.0000), Var(v=-0.1745, grad=0.0000), Var(v=0.1316, grad=0.0000), Var(v=-0.0606, grad=0.0000), Var(v=0.0566, grad=0.0000), Var(v=-0.1751, grad=0.0000), Var(v=0.0387, grad=0.0000), Var(v=-0.2636, grad=0.0000), Var(v=0.0053, grad=0.0000), Var(v=0.0236, grad=0.0000), Var(v=-0.1318, grad=0.0000), Var(v=0.0650, grad=0.0000), Var(v=-0.0527, grad=0.0000), Var(v=-0.0525, grad=0.0000), Var(v=0.2586, grad=0.0000), Var(v=0.0912, grad=0.0000), Var(v=0.0096, grad=0.0000), Var(v=0.0706, grad=0.0000), Var(v=-0.1359, grad=0.0000), Var(v=-0.1227, grad=0.0000), Var(v=-0.0782, grad=0.0000), Var(v=0.1457, grad=0.0000), Var(v=-0.0845, grad=0.0000), Var(v=0.0418, grad=0.0000), Var(v=-0.0944, grad=0.0000), Var(v=-0.1872, grad=0.0000), Var(v=-0.1679, grad=0.0000), Var(v=-0.1147, grad=0.0000), Var(v=-0.0062, grad=0.0000), Var(v=-0.1339, grad=0.0000), Var(v=0.2318, grad=0.0000), Var(v=0.0776, grad=0.0000), Var(v=-0.0784, grad=0.0000), Var(v=0.0633, grad=0.0000), Var(v=-0.0986, grad=0.0000), Var(v=-0.1385, grad=0.0000)], [Var(v=0.0486, grad=0.0000), Var(v=0.1646, grad=0.0000), Var(v=0.2899, grad=0.0000), Var(v=-0.1445, grad=0.0000), Var(v=0.1054, grad=0.0000), Var(v=0.0130, grad=0.0000), Var(v=-0.0860, grad=0.0000), Var(v=0.1654, grad=0.0000), Var(v=0.0125, grad=0.0000), Var(v=-0.0436, grad=0.0000), Var(v=-0.1743, grad=0.0000), Var(v=0.0697, grad=0.0000), Var(v=0.0770, grad=0.0000), Var(v=-0.0270, grad=0.0000), Var(v=-0.2760, grad=0.0000), Var(v=-0.1152, grad=0.0000), Var(v=0.0440, grad=0.0000), Var(v=-0.0386, grad=0.0000), Var(v=0.0047, grad=0.0000), Var(v=0.0239, grad=0.0000), Var(v=-0.0143, grad=0.0000), Var(v=0.0140, grad=0.0000), Var(v=0.0470, grad=0.0000), Var(v=-0.0422, grad=0.0000), Var(v=0.0663, grad=0.0000), Var(v=-0.1458, grad=0.0000), Var(v=-0.1234, grad=0.0000), Var(v=0.0611, grad=0.0000), Var(v=0.1043, grad=0.0000), Var(v=0.0742, grad=0.0000), Var(v=-0.0037, grad=0.0000), Var(v=-0.0544, grad=0.0000), Var(v=-0.0338, grad=0.0000), Var(v=-0.1545, grad=0.0000), Var(v=-0.2722, grad=0.0000), Var(v=-0.0509, grad=0.0000), Var(v=0.0261, grad=0.0000), Var(v=0.1683, grad=0.0000), Var(v=0.0509, grad=0.0000), Var(v=0.1475, grad=0.0000), Var(v=-0.0055, grad=0.0000), Var(v=0.0085, grad=0.0000), Var(v=0.0725, grad=0.0000), Var(v=-0.0727, grad=0.0000), Var(v=0.0653, grad=0.0000), Var(v=-0.0733, grad=0.0000), Var(v=0.1967, grad=0.0000), Var(v=-0.0428, grad=0.0000), Var(v=0.0318, grad=0.0000), Var(v=0.0753, grad=0.0000)], [Var(v=-0.0610, grad=0.0000), Var(v=-0.0215, grad=0.0000), Var(v=-0.1773, grad=0.0000), Var(v=0.0195, grad=0.0000), Var(v=-0.0034, grad=0.0000), Var(v=-0.1790, grad=0.0000), Var(v=-0.0223, grad=0.0000), Var(v=0.0488, grad=0.0000), Var(v=-0.0353, grad=0.0000), Var(v=0.0315, grad=0.0000), Var(v=-0.0638, grad=0.0000), Var(v=0.0841, grad=0.0000), Var(v=-0.0491, grad=0.0000), Var(v=0.1171, grad=0.0000), Var(v=-0.0737, grad=0.0000), Var(v=0.1000, grad=0.0000), Var(v=-0.0324, grad=0.0000), Var(v=0.1610, grad=0.0000), Var(v=-0.0165, grad=0.0000), Var(v=0.1881, grad=0.0000), Var(v=0.0414, grad=0.0000), Var(v=-0.0863, grad=0.0000), Var(v=0.0260, grad=0.0000), Var(v=0.1805, grad=0.0000), Var(v=-0.0289, grad=0.0000), Var(v=-0.1433, grad=0.0000), Var(v=-0.0605, grad=0.0000), Var(v=0.0213, grad=0.0000), Var(v=-0.0771, grad=0.0000), Var(v=0.0806, grad=0.0000), Var(v=0.0722, grad=0.0000), Var(v=0.1783, grad=0.0000), Var(v=0.0498, grad=0.0000), Var(v=-0.1412, grad=0.0000), Var(v=0.0324, grad=0.0000), Var(v=0.0213, grad=0.0000), Var(v=-0.2406, grad=0.0000), Var(v=0.0004, grad=0.0000), Var(v=0.0431, grad=0.0000), Var(v=-0.0332, grad=0.0000), Var(v=0.0065, grad=0.0000), Var(v=-0.0157, grad=0.0000), Var(v=-0.0660, grad=0.0000), Var(v=0.0337, grad=0.0000), Var(v=0.1045, grad=0.0000), Var(v=0.0347, grad=0.0000), Var(v=-0.1967, grad=0.0000), Var(v=0.1007, grad=0.0000), Var(v=-0.0597, grad=0.0000), Var(v=-0.0341, grad=0.0000)], [Var(v=-0.0678, grad=0.0000), Var(v=-0.1125, grad=0.0000), Var(v=0.0714, grad=0.0000), Var(v=0.1331, grad=0.0000), Var(v=-0.0177, grad=0.0000), Var(v=-0.0400, grad=0.0000), Var(v=-0.0732, grad=0.0000), Var(v=0.0864, grad=0.0000), Var(v=-0.0411, grad=0.0000), Var(v=-0.0490, grad=0.0000), Var(v=0.0098, grad=0.0000), Var(v=-0.0439, grad=0.0000), Var(v=0.0909, grad=0.0000), Var(v=0.0384, grad=0.0000), Var(v=0.0010, grad=0.0000), Var(v=0.0698, grad=0.0000), Var(v=0.0047, grad=0.0000), Var(v=0.1062, grad=0.0000), Var(v=-0.0003, grad=0.0000), Var(v=0.1700, grad=0.0000), Var(v=0.0467, grad=0.0000), Var(v=0.0680, grad=0.0000), Var(v=0.0331, grad=0.0000), Var(v=0.1346, grad=0.0000), Var(v=-0.0885, grad=0.0000), Var(v=-0.0422, grad=0.0000), Var(v=0.0733, grad=0.0000), Var(v=-0.0115, grad=0.0000), Var(v=-0.0828, grad=0.0000), Var(v=-0.0273, grad=0.0000), Var(v=-0.0572, grad=0.0000), Var(v=0.0001, grad=0.0000), Var(v=-0.1290, grad=0.0000), Var(v=0.1922, grad=0.0000), Var(v=-0.0938, grad=0.0000), Var(v=0.0319, grad=0.0000), Var(v=-0.0345, grad=0.0000), Var(v=0.2082, grad=0.0000), Var(v=0.0690, grad=0.0000), Var(v=-0.0156, grad=0.0000), Var(v=0.0613, grad=0.0000), Var(v=0.0645, grad=0.0000), Var(v=-0.1459, grad=0.0000), Var(v=-0.0312, grad=0.0000), Var(v=-0.0478, grad=0.0000), Var(v=-0.2214, grad=0.0000), Var(v=0.0796, grad=0.0000), Var(v=0.1338, grad=0.0000), Var(v=0.0193, grad=0.0000), Var(v=-0.1588, grad=0.0000)], [Var(v=0.1232, grad=0.0000), Var(v=-0.0788, grad=0.0000), Var(v=-0.0187, grad=0.0000), Var(v=-0.0975, grad=0.0000), Var(v=-0.0368, grad=0.0000), Var(v=-0.0437, grad=0.0000), Var(v=-0.1164, grad=0.0000), Var(v=-0.0555, grad=0.0000), Var(v=0.1359, grad=0.0000), Var(v=-0.0450, grad=0.0000), Var(v=0.1445, grad=0.0000), Var(v=0.0641, grad=0.0000), Var(v=0.1045, grad=0.0000), Var(v=-0.1046, grad=0.0000), Var(v=0.1049, grad=0.0000), Var(v=0.0459, grad=0.0000), Var(v=-0.1303, grad=0.0000), Var(v=-0.0416, grad=0.0000), Var(v=-0.1440, grad=0.0000), Var(v=-0.0184, grad=0.0000), Var(v=-0.0359, grad=0.0000), Var(v=-0.1437, grad=0.0000), Var(v=-0.1423, grad=0.0000), Var(v=-0.0737, grad=0.0000), Var(v=-0.0813, grad=0.0000), Var(v=-0.1539, grad=0.0000), Var(v=0.0313, grad=0.0000), Var(v=-0.1782, grad=0.0000), Var(v=-0.0574, grad=0.0000), Var(v=0.0411, grad=0.0000), Var(v=-0.1153, grad=0.0000), Var(v=-0.0868, grad=0.0000), Var(v=0.0555, grad=0.0000), Var(v=0.0986, grad=0.0000), Var(v=-0.0146, grad=0.0000), Var(v=0.0826, grad=0.0000), Var(v=0.0488, grad=0.0000), Var(v=-0.0462, grad=0.0000), Var(v=0.0314, grad=0.0000), Var(v=-0.0375, grad=0.0000), Var(v=0.1388, grad=0.0000), Var(v=0.0803, grad=0.0000), Var(v=-0.0142, grad=0.0000), Var(v=0.1397, grad=0.0000), Var(v=-0.1630, grad=0.0000), Var(v=-0.0663, grad=0.0000), Var(v=0.0432, grad=0.0000), Var(v=0.0173, grad=0.0000), Var(v=0.0969, grad=0.0000), Var(v=0.0567, grad=0.0000)], [Var(v=-0.2652, grad=0.0000), Var(v=0.1016, grad=0.0000), Var(v=0.1491, grad=0.0000), Var(v=-0.0225, grad=0.0000), Var(v=0.0199, grad=0.0000), Var(v=0.1610, grad=0.0000), Var(v=-0.0927, grad=0.0000), Var(v=-0.0800, grad=0.0000), Var(v=0.1473, grad=0.0000), Var(v=-0.0703, grad=0.0000), Var(v=0.0165, grad=0.0000), Var(v=0.1703, grad=0.0000), Var(v=0.0588, grad=0.0000), Var(v=-0.0575, grad=0.0000), Var(v=-0.1368, grad=0.0000), Var(v=0.1303, grad=0.0000), Var(v=0.0372, grad=0.0000), Var(v=0.0365, grad=0.0000), Var(v=-0.3504, grad=0.0000), Var(v=-0.0538, grad=0.0000), Var(v=0.0337, grad=0.0000), Var(v=-0.0519, grad=0.0000), Var(v=0.0153, grad=0.0000), Var(v=-0.0082, grad=0.0000), Var(v=0.2491, grad=0.0000), Var(v=0.0715, grad=0.0000), Var(v=0.0177, grad=0.0000), Var(v=0.1245, grad=0.0000), Var(v=-0.1827, grad=0.0000), Var(v=0.0967, grad=0.0000), Var(v=-0.0210, grad=0.0000), Var(v=0.0130, grad=0.0000), Var(v=-0.1909, grad=0.0000), Var(v=-0.0526, grad=0.0000), Var(v=-0.1504, grad=0.0000), Var(v=0.0351, grad=0.0000), Var(v=0.0642, grad=0.0000), Var(v=-0.1019, grad=0.0000), Var(v=0.1700, grad=0.0000), Var(v=-0.1443, grad=0.0000), Var(v=0.0232, grad=0.0000), Var(v=0.1325, grad=0.0000), Var(v=-0.0401, grad=0.0000), Var(v=0.0062, grad=0.0000), Var(v=0.1949, grad=0.0000), Var(v=0.0245, grad=0.0000), Var(v=-0.1086, grad=0.0000), Var(v=-0.1640, grad=0.0000), Var(v=0.0804, grad=0.0000), Var(v=-0.0859, grad=0.0000)], [Var(v=-0.1657, grad=0.0000), Var(v=-0.0080, grad=0.0000), Var(v=-0.1945, grad=0.0000), Var(v=-0.0201, grad=0.0000), Var(v=-0.0905, grad=0.0000), Var(v=0.1878, grad=0.0000), Var(v=0.0377, grad=0.0000), Var(v=-0.0096, grad=0.0000), Var(v=-0.0452, grad=0.0000), Var(v=0.0158, grad=0.0000), Var(v=0.0528, grad=0.0000), Var(v=-0.0848, grad=0.0000), Var(v=-0.1466, grad=0.0000), Var(v=-0.1002, grad=0.0000), Var(v=0.0169, grad=0.0000), Var(v=-0.0275, grad=0.0000), Var(v=-0.0446, grad=0.0000), Var(v=0.0567, grad=0.0000), Var(v=0.0505, grad=0.0000), Var(v=0.0783, grad=0.0000), Var(v=0.0493, grad=0.0000), Var(v=-0.0447, grad=0.0000), Var(v=0.0178, grad=0.0000), Var(v=0.1512, grad=0.0000), Var(v=0.1737, grad=0.0000), Var(v=-0.0120, grad=0.0000), Var(v=-0.0334, grad=0.0000), Var(v=0.0611, grad=0.0000), Var(v=-0.2155, grad=0.0000), Var(v=0.0890, grad=0.0000), Var(v=-0.1253, grad=0.0000), Var(v=-0.0337, grad=0.0000), Var(v=-0.1493, grad=0.0000), Var(v=-0.0616, grad=0.0000), Var(v=-0.0381, grad=0.0000), Var(v=0.0223, grad=0.0000), Var(v=0.0780, grad=0.0000), Var(v=-0.0191, grad=0.0000), Var(v=-0.0471, grad=0.0000), Var(v=-0.0284, grad=0.0000), Var(v=-0.0520, grad=0.0000), Var(v=0.0246, grad=0.0000), Var(v=-0.0262, grad=0.0000), Var(v=0.1125, grad=0.0000), Var(v=0.1549, grad=0.0000), Var(v=-0.1260, grad=0.0000), Var(v=0.0124, grad=0.0000), Var(v=0.2672, grad=0.0000), Var(v=0.0295, grad=0.0000), Var(v=-0.0430, grad=0.0000)], [Var(v=0.0990, grad=0.0000), Var(v=0.0072, grad=0.0000), Var(v=-0.1130, grad=0.0000), Var(v=0.0107, grad=0.0000), Var(v=0.1040, grad=0.0000), Var(v=0.1022, grad=0.0000), Var(v=0.0297, grad=0.0000), Var(v=-0.0256, grad=0.0000), Var(v=0.2507, grad=0.0000), Var(v=-0.1036, grad=0.0000), Var(v=-0.0580, grad=0.0000), Var(v=-0.0971, grad=0.0000), Var(v=-0.0045, grad=0.0000), Var(v=0.1502, grad=0.0000), Var(v=0.0554, grad=0.0000), Var(v=0.0578, grad=0.0000), Var(v=-0.0267, grad=0.0000), Var(v=0.0499, grad=0.0000), Var(v=-0.1142, grad=0.0000), Var(v=-0.1934, grad=0.0000), Var(v=0.1537, grad=0.0000), Var(v=-0.2324, grad=0.0000), Var(v=-0.0099, grad=0.0000), Var(v=-0.0885, grad=0.0000), Var(v=0.1913, grad=0.0000), Var(v=0.0526, grad=0.0000), Var(v=-0.0405, grad=0.0000), Var(v=0.0256, grad=0.0000), Var(v=0.0861, grad=0.0000), Var(v=0.0507, grad=0.0000), Var(v=0.0370, grad=0.0000), Var(v=-0.0156, grad=0.0000), Var(v=0.1484, grad=0.0000), Var(v=0.0016, grad=0.0000), Var(v=0.0092, grad=0.0000), Var(v=0.0463, grad=0.0000), Var(v=0.0536, grad=0.0000), Var(v=-0.0777, grad=0.0000), Var(v=-0.0633, grad=0.0000), Var(v=-0.0896, grad=0.0000), Var(v=0.0479, grad=0.0000), Var(v=-0.0587, grad=0.0000), Var(v=-0.0559, grad=0.0000), Var(v=-0.0028, grad=0.0000), Var(v=-0.0051, grad=0.0000), Var(v=-0.0463, grad=0.0000), Var(v=0.0425, grad=0.0000), Var(v=0.0748, grad=0.0000), Var(v=-0.0576, grad=0.0000), Var(v=0.0714, grad=0.0000)]] Biases: [Var(v=0.0002, grad=0.0000), Var(v=-0.0000, grad=0.0000), Var(v=0.0000, grad=0.0000), Var(v=0.0000, grad=0.0000), Var(v=-0.0002, grad=0.0000), Var(v=0.0000, grad=0.0000), Var(v=0.0000, grad=0.0000), Var(v=0.0001, grad=0.0000), Var(v=-0.0007, grad=0.0000), Var(v=0.0000, grad=0.0000), Var(v=-0.0003, grad=0.0000), Var(v=0.0002, grad=0.0000), Var(v=0.0003, grad=0.0000), Var(v=-0.0007, grad=0.0000), Var(v=-0.0001, grad=0.0000), Var(v=-0.0006, grad=0.0000), Var(v=0.0000, grad=0.0000), Var(v=-0.0002, grad=0.0000), Var(v=-0.0002, grad=0.0000), Var(v=0.0001, grad=0.0000), Var(v=0.0003, grad=0.0000), Var(v=0.0000, grad=0.0000), Var(v=0.0000, grad=0.0000), Var(v=-0.0002, grad=0.0000), Var(v=0.0005, grad=0.0000), Var(v=0.0000, grad=0.0000), Var(v=-0.0001, grad=0.0000), Var(v=-0.0003, grad=0.0000), Var(v=0.0004, grad=0.0000), Var(v=0.0004, grad=0.0000), Var(v=0.0000, grad=0.0000), Var(v=-0.0002, grad=0.0000), Var(v=0.0000, grad=0.0000), Var(v=0.0004, grad=0.0000), Var(v=0.0000, grad=0.0000), Var(v=0.0011, grad=0.0000), Var(v=-0.0002, grad=0.0000), Var(v=-0.0003, grad=0.0000), Var(v=0.0000, grad=0.0000), Var(v=0.0000, grad=0.0000), Var(v=-0.0008, grad=0.0000), Var(v=0.0003, grad=0.0000), Var(v=-0.0001, grad=0.0000), Var(v=0.0002, grad=0.0000), Var(v=-0.0000, grad=0.0000), Var(v=0.0000, grad=0.0000), Var(v=-0.0006, grad=0.0000), Var(v=-0.0002, grad=0.0000), Var(v=-0.0001, grad=0.0000), Var(v=-0.0000, grad=0.0000)]\n",
      "Layer 2 \n",
      " Weights: [[Var(v=0.0579, grad=0.0000)], [Var(v=0.0034, grad=0.0000)], [Var(v=0.0237, grad=0.0000)], [Var(v=-0.1726, grad=0.0000)], [Var(v=-0.0224, grad=0.0000)], [Var(v=0.1332, grad=0.0000)], [Var(v=-0.1992, grad=0.0000)], [Var(v=0.0085, grad=0.0000)], [Var(v=-0.0921, grad=0.0000)], [Var(v=0.1843, grad=0.0000)], [Var(v=-0.0579, grad=0.0000)], [Var(v=-0.0695, grad=0.0000)], [Var(v=0.0440, grad=0.0000)], [Var(v=-0.1020, grad=0.0000)], [Var(v=-0.0237, grad=0.0000)], [Var(v=0.2091, grad=0.0000)], [Var(v=-0.0262, grad=0.0000)], [Var(v=-0.0235, grad=0.0000)], [Var(v=0.0598, grad=0.0000)], [Var(v=-0.0326, grad=0.0000)], [Var(v=0.0433, grad=0.0000)], [Var(v=0.0856, grad=0.0000)], [Var(v=-0.0964, grad=0.0000)], [Var(v=-0.0282, grad=0.0000)], [Var(v=-0.1880, grad=0.0000)], [Var(v=0.2406, grad=0.0000)], [Var(v=0.0491, grad=0.0000)], [Var(v=0.1162, grad=0.0000)], [Var(v=0.0576, grad=0.0000)], [Var(v=0.0914, grad=0.0000)], [Var(v=0.1973, grad=0.0000)], [Var(v=0.0653, grad=0.0000)], [Var(v=0.1274, grad=0.0000)], [Var(v=0.0977, grad=0.0000)], [Var(v=0.0178, grad=0.0000)], [Var(v=0.2510, grad=0.0000)], [Var(v=-0.0427, grad=0.0000)], [Var(v=-0.0690, grad=0.0000)], [Var(v=-0.0087, grad=0.0000)], [Var(v=0.0222, grad=0.0000)], [Var(v=-0.1065, grad=0.0000)], [Var(v=0.0451, grad=0.0000)], [Var(v=0.0231, grad=0.0000)], [Var(v=-0.0641, grad=0.0000)], [Var(v=0.0068, grad=0.0000)], [Var(v=0.0575, grad=0.0000)], [Var(v=-0.1386, grad=0.0000)], [Var(v=-0.0497, grad=0.0000)], [Var(v=-0.0187, grad=0.0000)], [Var(v=0.0121, grad=0.0000)]] Biases: [Var(v=0.0043, grad=0.0000)]\n"
     ]
    },
    {
     "data": {
      "text/plain": [
       "[None, None, None]"
      ]
     },
     "execution_count": 32,
     "metadata": {},
     "output_type": "execute_result"
    }
   ],
   "source": [
    "print('Network before update:')\n",
    "[print('Layer', i, '\\n', NN[i]) for i in range(len(NN))] \n",
    "\n",
    "def parameters(network):\n",
    "  params = []\n",
    "  for layer in range(len(network)):\n",
    "    params += network[layer].parameters()\n",
    "  return params\n",
    "\n",
    "def update_parameters(params, learning_rate=0.01):\n",
    "  for p in params:\n",
    "    p.v -= learning_rate*p.grad\n",
    "\n",
    "def zero_gradients(params):\n",
    "  for p in params:\n",
    "    p.grad = 0.0\n",
    "\n",
    "update_parameters(parameters(NN))\n",
    "\n",
    "print('\\nNetwork after update:')\n",
    "[print('Layer', i, '\\n', NN[i]) for i in range(len(NN))] \n",
    "\n",
    "zero_gradients(parameters(NN))\n",
    "\n",
    "print('\\nNetwork after zeroing gradients:')\n",
    "[print('Layer', i, '\\n', NN[i]) for i in range(len(NN))] "
   ]
  },
  {
   "cell_type": "code",
   "execution_count": 33,
   "metadata": {
    "id": "woWYpdw6FtIO"
   },
   "outputs": [],
   "source": [
    "# Initialize an arbitrary neural network\n",
    "NN = [\n",
    "    DenseLayer(1, 8, lambda x: x.relu()),\n",
    "    DenseLayer(8, 1, lambda x: x.identity())\n",
    "]\n",
    "\n",
    "# Recommended hyper-parameters for 3-D: \n",
    "#NN = [\n",
    "#    DenseLayer(3, 16, lambda x: x.relu()),\n",
    "#    DenseLayer(16, 1, lambda x: x.identity())\n",
    "#]\n",
    "\n",
    "\n",
    "### Notice that, when we switch from tanh to relu activation, we decrease the learning rate. This is due the stability of the gradients \n",
    "## of the activation functions."
   ]
  },
  {
   "cell_type": "code",
   "execution_count": 34,
   "metadata": {
    "id": "mdqaqYBVFtIR"
   },
   "outputs": [],
   "source": [
    "# Initialize training hyperparameters\n",
    "EPOCHS = 200\n",
    "LEARN_R = 2e-3 "
   ]
  },
  {
   "cell_type": "code",
   "execution_count": 35,
   "metadata": {
    "colab": {
     "base_uri": "https://localhost:8080/"
    },
    "id": "5kfg76GMFtIW",
    "outputId": "e30cf68a-31f2-42b4-cc5e-860c297c0f04",
    "scrolled": true
   },
   "outputs": [
    {
     "name": "stdout",
     "output_type": "stream",
     "text": [
      "   0 ( 0.00%) Train loss: 108.090 \t Validation loss: 112.228\n",
      "  10 ( 5.00%) Train loss: 115.495 \t Validation loss: 127.591\n",
      "  20 (10.00%) Train loss: 288233337342849515520.000 \t Validation loss: 3098794954637344670417929188790133830785133612708370526902974205963712901187558021214054121472.000\n"
     ]
    },
    {
     "ename": "OverflowError",
     "evalue": "(34, 'Result too large')",
     "output_type": "error",
     "traceback": [
      "\u001b[1;31m---------------------------------------------------------------------------\u001b[0m",
      "\u001b[1;31mOverflowError\u001b[0m                             Traceback (most recent call last)",
      "\u001b[1;32m~\\AppData\\Local\\Temp\\ipykernel_26720\\6158408.py\u001b[0m in \u001b[0;36m<module>\u001b[1;34m\u001b[0m\n\u001b[0;32m     18\u001b[0m \u001b[1;33m\u001b[0m\u001b[0m\n\u001b[0;32m     19\u001b[0m     \u001b[1;31m# Validation\u001b[0m\u001b[1;33m\u001b[0m\u001b[1;33m\u001b[0m\u001b[1;33m\u001b[0m\u001b[0m\n\u001b[1;32m---> 20\u001b[1;33m     \u001b[0mLoss_validation\u001b[0m \u001b[1;33m=\u001b[0m \u001b[0msquared_loss\u001b[0m\u001b[1;33m(\u001b[0m\u001b[0my_validation\u001b[0m\u001b[1;33m,\u001b[0m \u001b[0mforward\u001b[0m\u001b[1;33m(\u001b[0m\u001b[0mx_validation\u001b[0m\u001b[1;33m,\u001b[0m \u001b[0mNN\u001b[0m\u001b[1;33m)\u001b[0m\u001b[1;33m)\u001b[0m\u001b[1;33m\u001b[0m\u001b[1;33m\u001b[0m\u001b[0m\n\u001b[0m\u001b[0;32m     21\u001b[0m     \u001b[0mval_loss\u001b[0m\u001b[1;33m.\u001b[0m\u001b[0mappend\u001b[0m\u001b[1;33m(\u001b[0m\u001b[0mLoss_validation\u001b[0m\u001b[1;33m.\u001b[0m\u001b[0mv\u001b[0m\u001b[1;33m)\u001b[0m\u001b[1;33m\u001b[0m\u001b[1;33m\u001b[0m\u001b[0m\n\u001b[0;32m     22\u001b[0m \u001b[1;33m\u001b[0m\u001b[0m\n",
      "\u001b[1;32m~\\AppData\\Local\\Temp\\ipykernel_26720\\1150052396.py\u001b[0m in \u001b[0;36msquared_loss\u001b[1;34m(t, y)\u001b[0m\n\u001b[0;32m     12\u001b[0m     \u001b[0mLoss\u001b[0m \u001b[1;33m=\u001b[0m \u001b[0mVar\u001b[0m\u001b[1;33m(\u001b[0m\u001b[1;36m0.0\u001b[0m\u001b[1;33m)\u001b[0m\u001b[1;33m\u001b[0m\u001b[1;33m\u001b[0m\u001b[0m\n\u001b[0;32m     13\u001b[0m     \u001b[1;32mfor\u001b[0m \u001b[0mn\u001b[0m \u001b[1;32min\u001b[0m \u001b[0mrange\u001b[0m\u001b[1;33m(\u001b[0m\u001b[0mlen\u001b[0m\u001b[1;33m(\u001b[0m\u001b[0mt\u001b[0m\u001b[1;33m)\u001b[0m\u001b[1;33m)\u001b[0m\u001b[1;33m:\u001b[0m \u001b[1;31m# sum over training data\u001b[0m\u001b[1;33m\u001b[0m\u001b[1;33m\u001b[0m\u001b[0m\n\u001b[1;32m---> 14\u001b[1;33m         \u001b[0mLoss\u001b[0m \u001b[1;33m+=\u001b[0m \u001b[0msquared_loss_single\u001b[0m\u001b[1;33m(\u001b[0m\u001b[0mt\u001b[0m\u001b[1;33m[\u001b[0m\u001b[0mn\u001b[0m\u001b[1;33m]\u001b[0m\u001b[1;33m,\u001b[0m\u001b[0my\u001b[0m\u001b[1;33m[\u001b[0m\u001b[0mn\u001b[0m\u001b[1;33m]\u001b[0m\u001b[1;33m)\u001b[0m\u001b[1;33m\u001b[0m\u001b[1;33m\u001b[0m\u001b[0m\n\u001b[0m\u001b[0;32m     15\u001b[0m     \u001b[1;32mreturn\u001b[0m \u001b[0mLoss\u001b[0m\u001b[1;33m\u001b[0m\u001b[1;33m\u001b[0m\u001b[0m\n",
      "\u001b[1;32m~\\AppData\\Local\\Temp\\ipykernel_26720\\1150052396.py\u001b[0m in \u001b[0;36msquared_loss_single\u001b[1;34m(t, y)\u001b[0m\n\u001b[0;32m      7\u001b[0m         \u001b[0mLoss\u001b[0m \u001b[1;33m=\u001b[0m \u001b[0mVar\u001b[0m\u001b[1;33m(\u001b[0m\u001b[1;36m0.0\u001b[0m\u001b[1;33m)\u001b[0m\u001b[1;33m\u001b[0m\u001b[1;33m\u001b[0m\u001b[0m\n\u001b[0;32m      8\u001b[0m         \u001b[1;32mfor\u001b[0m \u001b[0mi\u001b[0m \u001b[1;32min\u001b[0m \u001b[0mrange\u001b[0m\u001b[1;33m(\u001b[0m\u001b[0mlen\u001b[0m\u001b[1;33m(\u001b[0m\u001b[0mt\u001b[0m\u001b[1;33m)\u001b[0m\u001b[1;33m)\u001b[0m\u001b[1;33m:\u001b[0m \u001b[1;31m# sum over outputs\u001b[0m\u001b[1;33m\u001b[0m\u001b[1;33m\u001b[0m\u001b[0m\n\u001b[1;32m----> 9\u001b[1;33m             \u001b[0mLoss\u001b[0m \u001b[1;33m+=\u001b[0m \u001b[1;33m(\u001b[0m\u001b[0mt\u001b[0m\u001b[1;33m[\u001b[0m\u001b[0mi\u001b[0m\u001b[1;33m]\u001b[0m\u001b[1;33m-\u001b[0m\u001b[0my\u001b[0m\u001b[1;33m[\u001b[0m\u001b[0mi\u001b[0m\u001b[1;33m]\u001b[0m\u001b[1;33m)\u001b[0m \u001b[1;33m**\u001b[0m \u001b[1;36m2\u001b[0m\u001b[1;33m\u001b[0m\u001b[1;33m\u001b[0m\u001b[0m\n\u001b[0m\u001b[0;32m     10\u001b[0m         \u001b[1;32mreturn\u001b[0m \u001b[0mLoss\u001b[0m\u001b[1;33m\u001b[0m\u001b[1;33m\u001b[0m\u001b[0m\n\u001b[0;32m     11\u001b[0m \u001b[1;33m\u001b[0m\u001b[0m\n",
      "\u001b[1;32m~\\AppData\\Local\\Temp\\ipykernel_26720\\3336920048.py\u001b[0m in \u001b[0;36m__pow__\u001b[1;34m(self, power)\u001b[0m\n\u001b[0;32m     30\u001b[0m     \u001b[1;32mdef\u001b[0m \u001b[0m__pow__\u001b[0m\u001b[1;33m(\u001b[0m\u001b[0mself\u001b[0m\u001b[1;33m,\u001b[0m \u001b[0mpower\u001b[0m\u001b[1;33m)\u001b[0m\u001b[1;33m:\u001b[0m\u001b[1;33m\u001b[0m\u001b[1;33m\u001b[0m\u001b[0m\n\u001b[0;32m     31\u001b[0m         \u001b[1;32massert\u001b[0m \u001b[0mtype\u001b[0m\u001b[1;33m(\u001b[0m\u001b[0mpower\u001b[0m\u001b[1;33m)\u001b[0m \u001b[1;32min\u001b[0m \u001b[1;33m{\u001b[0m\u001b[0mfloat\u001b[0m\u001b[1;33m,\u001b[0m \u001b[0mint\u001b[0m\u001b[1;33m}\u001b[0m\u001b[1;33m,\u001b[0m \u001b[1;34m\"power must be float or int\"\u001b[0m\u001b[1;33m\u001b[0m\u001b[1;33m\u001b[0m\u001b[0m\n\u001b[1;32m---> 32\u001b[1;33m         \u001b[1;32mreturn\u001b[0m \u001b[0mVar\u001b[0m\u001b[1;33m(\u001b[0m\u001b[0mself\u001b[0m\u001b[1;33m.\u001b[0m\u001b[0mv\u001b[0m \u001b[1;33m**\u001b[0m \u001b[0mpower\u001b[0m\u001b[1;33m,\u001b[0m \u001b[1;32mlambda\u001b[0m\u001b[1;33m:\u001b[0m \u001b[1;33m[\u001b[0m\u001b[1;33m(\u001b[0m\u001b[0mself\u001b[0m\u001b[1;33m,\u001b[0m \u001b[0mpower\u001b[0m \u001b[1;33m*\u001b[0m \u001b[0mself\u001b[0m\u001b[1;33m.\u001b[0m\u001b[0mv\u001b[0m \u001b[1;33m**\u001b[0m \u001b[1;33m(\u001b[0m\u001b[0mpower\u001b[0m \u001b[1;33m-\u001b[0m \u001b[1;36m1\u001b[0m\u001b[1;33m)\u001b[0m\u001b[1;33m)\u001b[0m\u001b[1;33m]\u001b[0m\u001b[1;33m)\u001b[0m\u001b[1;33m\u001b[0m\u001b[1;33m\u001b[0m\u001b[0m\n\u001b[0m\u001b[0;32m     33\u001b[0m \u001b[1;33m\u001b[0m\u001b[0m\n\u001b[0;32m     34\u001b[0m     \u001b[1;32mdef\u001b[0m \u001b[0m__neg__\u001b[0m\u001b[1;33m(\u001b[0m\u001b[0mself\u001b[0m\u001b[1;33m:\u001b[0m \u001b[1;34m'Var'\u001b[0m\u001b[1;33m)\u001b[0m \u001b[1;33m->\u001b[0m \u001b[1;34m'Var'\u001b[0m\u001b[1;33m:\u001b[0m\u001b[1;33m\u001b[0m\u001b[1;33m\u001b[0m\u001b[0m\n",
      "\u001b[1;31mOverflowError\u001b[0m: (34, 'Result too large')"
     ]
    }
   ],
   "source": [
    "train_loss = []\n",
    "val_loss = []\n",
    "\n",
    "for e in range(EPOCHS):\n",
    "     \n",
    "    # Forward pass and loss computation\n",
    "    Loss = squared_loss(y_train, forward(x_train, NN))\n",
    "\n",
    "    # Backward pass\n",
    "    Loss.backward()\n",
    "    \n",
    "    # gradient descent update\n",
    "    update_parameters(parameters(NN), LEARN_R)\n",
    "    zero_gradients(parameters(NN))\n",
    "    \n",
    "    # Training loss\n",
    "    train_loss.append(Loss.v)\n",
    "    \n",
    "    # Validation\n",
    "    Loss_validation = squared_loss(y_validation, forward(x_validation, NN))\n",
    "    val_loss.append(Loss_validation.v)\n",
    "    \n",
    "    if e%10==0:\n",
    "        print(\"{:4d}\".format(e),\n",
    "              \"({:5.2f}%)\".format(e/EPOCHS*100), \n",
    "              \"Train loss: {:4.3f} \\t Validation loss: {:4.3f}\".format(train_loss[-1], val_loss[-1]))\n",
    "        \n"
   ]
  },
  {
   "cell_type": "code",
   "execution_count": 36,
   "metadata": {
    "colab": {
     "base_uri": "https://localhost:8080/",
     "height": 265
    },
    "id": "VetyRWFwFtIY",
    "outputId": "344e490d-6d7d-455a-fa6f-88dd11eb957e"
   },
   "outputs": [
    {
     "data": {
      "image/png": "[encoded data removed]",
      "text/plain": [
       "<Figure size 640x480 with 1 Axes>"
      ]
     },
     "metadata": {},
     "output_type": "display_data"
    }
   ],
   "source": [
    "plt.plot(range(len(train_loss)), train_loss);\n",
    "plt.plot(range(len(val_loss)), val_loss);"
   ]
  },
  {
   "cell_type": "markdown",
   "metadata": {
    "id": "8OgmIrM9FtIb"
   },
   "source": [
    "# Testing\n",
    "\n",
    "We have kept the calculation of the test error separate in order to emphasize that you should not use the test set in optimization."
   ]
  },
  {
   "cell_type": "code",
   "execution_count": null,
   "metadata": {
    "id": "HmNi7S-vFtIc"
   },
   "outputs": [],
   "source": [
    "output_test = forward(x_test, NN)"
   ]
  },
  {
   "cell_type": "code",
   "execution_count": null,
   "metadata": {
    "colab": {
     "base_uri": "https://localhost:8080/",
     "height": 316
    },
    "id": "7mmJOTSEFtIf",
    "outputId": "e3264095-cefe-4aee-893d-bf152438e332"
   },
   "outputs": [],
   "source": [
    "y_test_np = Var_to_nparray(y_test)\n",
    "plt.scatter(y_test_np, Var_to_nparray(output_test));\n",
    "plt.plot([np.min(y_test_np), np.max(y_test_np)], [np.min(y_test_np), np.max(y_test_np)], color='k');\n",
    "plt.xlabel(\"y\");\n",
    "plt.ylabel(\"$\\hat{y}$\");\n",
    "plt.title(\"Model prediction vs real in the test set, the close to the line the better\")\n",
    "plt.grid(True);\n",
    "plt.axis('equal');\n",
    "plt.tight_layout();\n",
    "\n",
    "Loss_test = squared_loss(y_test, forward(x_test, NN))\n",
    "\n",
    "print(\"Test loss:  {:4.3f}\".format(Loss_test.v))"
   ]
  },
  {
   "cell_type": "code",
   "execution_count": null,
   "metadata": {
    "colab": {
     "base_uri": "https://localhost:8080/",
     "height": 279
    },
    "id": "ODi0WlmQFtIh",
    "outputId": "d1ab874f-0717-4987-87bf-1f0c7c8e7148"
   },
   "outputs": [],
   "source": [
    "x_test_np = Var_to_nparray(x_test)\n",
    "x_train_np = Var_to_nparray(x_train)\n",
    "y_train_np = Var_to_nparray(y_train)\n",
    "if D1:\n",
    "    plt.scatter(x_train_np, y_train_np, label=\"train data\");\n",
    "    plt.scatter(x_test_np, Var_to_nparray(output_test), label=\"test prediction\");\n",
    "    plt.scatter(x_test_np, y_test_np, label=\"test data\");\n",
    "    plt.legend();\n",
    "    plt.xlabel(\"x\");\n",
    "    plt.ylabel(\"y\");\n",
    "else:\n",
    "    plt.scatter(x_train_np[:,1], y_train, label=\"train data\");\n",
    "    plt.scatter(x_test_np[:,1], Var_to_nparray(output_test), label=\"test data prediction\");\n",
    "    plt.scatter(x_test_np[:,1], y_test_np, label=\"test data\");\n",
    "    plt.legend();\n",
    "    plt.xlabel(\"x\");\n",
    "    plt.ylabel(\"y\");"
   ]
  },
  {
   "cell_type": "markdown",
   "metadata": {
    "id": "zTBAmjsAFtIk"
   },
   "source": [
    "## Exercise l) Show overfitting, underfitting and just right fitting\n",
    "\n",
    "Vary the architecture and other things to show clear signs of overfitting (=training loss significantly lower than test loss) and underfitting (=not fitting enoung to training data so that test performance is also hurt).\n",
    "\n",
    "See also if you can get a good compromise which leads to a low validation loss. \n",
    "\n",
    "For this problem do you see any big difference between validation and test loss? The answer here will probably be no. Discuss cases where it is important to keep the two separate.\n",
    "\n",
    "_Insert written answer here._\n"
   ]
  },
  {
   "cell_type": "code",
   "execution_count": null,
   "metadata": {
    "id": "tQZCn2dxFtIl"
   },
   "outputs": [],
   "source": [
    "# Insert your code for getting overfitting, underfitting and just right fitting"
   ]
  },
  {
   "cell_type": "markdown",
   "metadata": {
    "id": "fYPZP-eTFtIo"
   },
   "source": [
    "# Next steps - classification\n",
    "\n",
    "It is straight forward to extend what we have done to classification. \n",
    "\n",
    "For numerical stability it is better to make softmax and cross-entropy as one function so we write the cross entropy loss as a function of the logits we talked about last week. \n",
    "\n",
    "Next week we will see how to perform classification in PyTorch."
   ]
  },
  {
   "cell_type": "markdown",
   "metadata": {
    "id": "qsVPul3QFtIo"
   },
   "source": [
    "## Exercise m) optional - Implement backpropagation for classification\n",
    "\n",
    "Should be possible with very few lines of code. :-)"
   ]
  },
  {
   "cell_type": "code",
   "execution_count": null,
   "metadata": {
    "id": "oC8QrI2tFtIp"
   },
   "outputs": [],
   "source": [
    "# Just add code."
   ]
  },
  {
   "cell_type": "markdown",
   "metadata": {
    "id": "APqhJv3tta1O"
   },
   "source": [
    "## Exercise n) optional - Introduce a NeuralNetwork class\n",
    "\n",
    "The functions we applied on the neural network (parameters, update_parameters and zero_gradients) can more naturally be included as methods in a NeuralNetwork class. Make such a class and modify the code to use it. "
   ]
  },
  {
   "cell_type": "code",
   "execution_count": null,
   "metadata": {
    "id": "Dqfnor1ouMLq"
   },
   "outputs": [],
   "source": [
    "# just add some code"
   ]
  }
 ],
 "metadata": {
  "anaconda-cloud": {},
  "colab": {
   "collapsed_sections": [
    "U4057_ljNvWB",
    "p_8n_SKnIW2F",
    "oLrGJytZFtGm",
    "jpIZPBpNI0pO",
    "_79HOAXrFtHK",
    "mqeyab9qFtGs",
    "-XyXBD37FtHk",
    "SrwSJ2UWFtHu",
    "zTBAmjsAFtIk",
    "qsVPul3QFtIo",
    "APqhJv3tta1O"
   ],
   "name": "2.1-EXE-FNN-AutoDif-Nanograd.ipynb",
   "provenance": []
  },
  "kernelspec": {
   "display_name": "env_02456_DL",
   "language": "python",
   "name": "env_02456_dl"
  },
  "language_info": {
   "codemirror_mode": {
    "name": "ipython",
    "version": 3
   },
   "file_extension": ".py",
   "mimetype": "text/x-python",
   "name": "python",
   "nbconvert_exporter": "python",
   "pygments_lexer": "ipython3",
   "version": "3.7.1"
  }
 },
 "nbformat": 4,
 "nbformat_minor": 4
}
